{
 "cells": [
  {
   "cell_type": "markdown",
   "metadata": {},
   "source": [
    "# Задачи3"
   ]
  },
  {
   "cell_type": "code",
   "execution_count": 1,
   "metadata": {},
   "outputs": [
    {
     "name": "stdout",
     "output_type": "stream",
     "text": [
      "6\n"
     ]
    }
   ],
   "source": [
    "\n",
    "def f(**x): \n",
    "    return sum(x.values())\n",
    "s = f(a=1, b=2) + f(x=2, y=1, z=0)\n",
    "print(s)"
   ]
  },
  {
   "cell_type": "code",
   "execution_count": null,
   "metadata": {},
   "outputs": [],
   "source": [
    "(1, 2, 2, 1, 0)\n",
    "{\"a\":1, \"b\":2, \"x\":2, \"y\":1, \"z\":0}\n",
    "3\n",
    "6\n",
    "{1, 2, 2, 1, 0}\n",
    "0"
   ]
  },
  {
   "cell_type": "code",
   "execution_count": 11,
   "metadata": {},
   "outputs": [
    {
     "name": "stdout",
     "output_type": "stream",
     "text": [
      "225\n"
     ]
    }
   ],
   "source": [
    "\n",
    "x = (i**2 for i in range(1, 100) if not i % 3)\n",
    "y = (i for i in x if not i % 5)\n",
    "print(next(y))"
   ]
  },
  {
   "cell_type": "code",
   "execution_count": null,
   "metadata": {},
   "outputs": [],
   "source": [
    "6\n",
    "9\n",
    "15\n",
    "144\n",
    "225\n",
    "196\n",
    "Посмотреть результаты"
   ]
  },
  {
   "cell_type": "code",
   "execution_count": 3,
   "metadata": {},
   "outputs": [
    {
     "name": "stdout",
     "output_type": "stream",
     "text": [
      "Пароль правильный\n"
     ]
    }
   ],
   "source": [
    "\n",
    "import hashlib\n",
    "h = hashlib.md5(b\"your passward\")\n",
    "p = h.hexdigest()\n",
    "h2 = hashlib.md5(b\"your passward\")\n",
    "if p == h2.hexdigest():\n",
    "    print(\"Пароль правильный\")\n",
    "else:\n",
    "    print(\"Пароль неправильный\")"
   ]
  },
  {
   "cell_type": "code",
   "execution_count": null,
   "metadata": {},
   "outputs": [],
   "source": [
    "\n",
    "Какую функцию стоит использовать для генерации криптографически надежных (псевдо)случайных элементов?\n",
    "os.urandom()\n",
    "random.random()\n",
    "random.uniform(0, 1)\n",
    "id(0)"
   ]
  },
  {
   "cell_type": "code",
   "execution_count": 10,
   "metadata": {},
   "outputs": [
    {
     "name": "stdout",
     "output_type": "stream",
     "text": [
      "32 64\n"
     ]
    }
   ],
   "source": [
    "\n",
    "import hashlib\n",
    "m = hashlib.sha256()\n",
    "m.update(b\"hello\")\n",
    "print(m.digest_size, len(m.hexdigest())) "
   ]
  },
  {
   "cell_type": "code",
   "execution_count": null,
   "metadata": {},
   "outputs": [],
   "source": [
    "5 5\n",
    "5 10\n",
    "32 32\n",
    "32 64\n",
    "256 256\n",
    "256 512"
   ]
  },
  {
   "cell_type": "code",
   "execution_count": 7,
   "metadata": {},
   "outputs": [
    {
     "name": "stdout",
     "output_type": "stream",
     "text": [
      "1\n"
     ]
    }
   ],
   "source": [
    "\n",
    "import datetime\n",
    "t1 = datetime.date(2021, 3, 5) - datetime.date(2021, 2, 23)\n",
    "t2 = datetime.date(2020, 3, 5) - datetime.date(2020, 2, 23)\n",
    "print((t2 - t1).days)"
   ]
  },
  {
   "cell_type": "code",
   "execution_count": null,
   "metadata": {},
   "outputs": [],
   "source": [
    "-1\n",
    "0 \n",
    "1\n",
    "5\n",
    "9\n",
    "10\n",
    "11\n",
    "23\n",
    "ValueError\n",
    "TypeError"
   ]
  },
  {
   "cell_type": "code",
   "execution_count": null,
   "metadata": {},
   "outputs": [],
   "source": [
    "\n",
    "Какое наибольшее целое число может быть в переменной?\n",
    "2^32 - 1\n",
    "2^64 - 1\n",
    "2^52 - 1\n",
    "2^256 - 1\n",
    "2^1024 - 1\n",
    "Ограничено только памятью компьютера"
   ]
  },
  {
   "cell_type": "code",
   "execution_count": null,
   "metadata": {},
   "outputs": [],
   "source": [
    "\n",
    "Какое наибольшее целое число может быть в переменной?\n",
    "2**32 - 1\n",
    "2**64 - 1\n",
    "2**52 - 1\n",
    "2**256 - 1\n",
    "2**1024 - 1\n",
    "Ограничено только памятью компьютера"
   ]
  },
  {
   "cell_type": "code",
   "execution_count": null,
   "metadata": {},
   "outputs": [],
   "source": [
    "\n",
    "Какая библиотека позволяет отлавливать и генерировать события клика и движения мышки?\n",
    "mss\n",
    "pillow\n",
    "pytorch\n",
    "pynput\n",
    "watchdog"
   ]
  },
  {
   "cell_type": "code",
   "execution_count": 1,
   "metadata": {},
   "outputs": [
    {
     "name": "stdout",
     "output_type": "stream",
     "text": [
      "CACB"
     ]
    }
   ],
   "source": [
    "\n",
    "class A:\n",
    "    def f(self):\n",
    "        print('A', end=\"\")\n",
    "class B:\n",
    "    def f(self):\n",
    "        print('B', end=\"\")\n",
    "class C(A):\n",
    "    def f(self):\n",
    "        print(\"C\", end=\"\")\n",
    "        super().f()\n",
    "        self.__class__.__bases__ = (B,)\n",
    "x = C()\n",
    "_ = x.f(), x.f()"
   ]
  },
  {
   "cell_type": "code",
   "execution_count": null,
   "metadata": {},
   "outputs": [],
   "source": [
    "CABCAB\n",
    "CACA\n",
    "CBCB\n",
    "CACB\n",
    "CBCA\n",
    "Посмотреть результаты"
   ]
  },
  {
   "cell_type": "code",
   "execution_count": 2,
   "metadata": {},
   "outputs": [
    {
     "name": "stdout",
     "output_type": "stream",
     "text": [
      "DВCC"
     ]
    }
   ],
   "source": [
    "\n",
    "class B:\n",
    "    def __init__(self) : \n",
    "        print ('В', end='')\n",
    "        super().__init__()\n",
    "class C:\n",
    "    def __init__(self): \n",
    "        print('C', end='')\n",
    "        super().__init__ ()\n",
    "class D(B, C):\n",
    "    def __init__(self):\n",
    "        print('D', end='') \n",
    "        B.__init__(self)\n",
    "        C.__init__(self)\n",
    "X = D()\n"
   ]
  },
  {
   "cell_type": "code",
   "execution_count": null,
   "metadata": {},
   "outputs": [],
   "source": [
    "DB\n",
    "DC\n",
    "DBC\n",
    "DBBC\n",
    "DBCC\n",
    "DCBC\n",
    "DBBCC\n",
    "Посмотреть результаты"
   ]
  },
  {
   "cell_type": "code",
   "execution_count": 3,
   "metadata": {},
   "outputs": [
    {
     "name": "stdout",
     "output_type": "stream",
     "text": [
      "DBCAAA"
     ]
    }
   ],
   "source": [
    "\n",
    "class A:\n",
    "    def f(self):\n",
    "        print(\"A\", end=\"\")\n",
    "class B(A):\n",
    "    def f(self):\n",
    "        print(\"B\", end=\"\")\n",
    "        super().f()\n",
    "        A.f(self)\n",
    "class C(A):\n",
    "    def f(self):\n",
    "        print(\"C\", end=\"\")\n",
    "        super().f()\n",
    "        A.f(self)\n",
    "class D(B, C):\n",
    "    def f(self):\n",
    "        print(\"D\", end=\"\")\n",
    "        super().f()\n",
    "d = D()\n",
    "d.f()"
   ]
  },
  {
   "cell_type": "code",
   "execution_count": null,
   "metadata": {},
   "outputs": [],
   "source": [
    "DBACA\n",
    "DBACAA\n",
    "DBCA\n",
    "DBCAA\n",
    "DBCAAA\n",
    "DBAACA\n",
    "Посмотреть результаты"
   ]
  },
  {
   "cell_type": "code",
   "execution_count": 9,
   "metadata": {},
   "outputs": [],
   "source": [
    "\n",
    "d = {}\n",
    "d[2, 3] = \"a\", \"b\"\n",
    "#как получить вывод `a b`"
   ]
  },
  {
   "cell_type": "code",
   "execution_count": null,
   "metadata": {},
   "outputs": [],
   "source": [
    "#Выберите правильный вариант\n",
    "print(d[0], d[1])\n",
    "print(d[2][3])\n",
    "print(*d[2, 3])\n",
    "print(**d[2, 3])"
   ]
  },
  {
   "cell_type": "code",
   "execution_count": 13,
   "metadata": {},
   "outputs": [
    {
     "ename": "TypeError",
     "evalue": "print() argument after ** must be a mapping, not tuple",
     "output_type": "error",
     "traceback": [
      "\u001b[1;31m---------------------------------------------------------------------------\u001b[0m",
      "\u001b[1;31mTypeError\u001b[0m                                 Traceback (most recent call last)",
      "\u001b[1;32m<ipython-input-13-a0732e6093dc>\u001b[0m in \u001b[0;36m<module>\u001b[1;34m\u001b[0m\n\u001b[1;32m----> 1\u001b[1;33m \u001b[0mprint\u001b[0m\u001b[1;33m(\u001b[0m\u001b[1;33m**\u001b[0m\u001b[0md\u001b[0m\u001b[1;33m[\u001b[0m\u001b[1;36m2\u001b[0m\u001b[1;33m,\u001b[0m \u001b[1;36m3\u001b[0m\u001b[1;33m]\u001b[0m\u001b[1;33m)\u001b[0m\u001b[1;33m\u001b[0m\u001b[1;33m\u001b[0m\u001b[0m\n\u001b[0m",
      "\u001b[1;31mTypeError\u001b[0m: print() argument after ** must be a mapping, not tuple"
     ]
    }
   ],
   "source": [
    "print(**d[2, 3])"
   ]
  },
  {
   "cell_type": "code",
   "execution_count": 12,
   "metadata": {},
   "outputs": [
    {
     "ename": "KeyError",
     "evalue": "2",
     "output_type": "error",
     "traceback": [
      "\u001b[1;31m---------------------------------------------------------------------------\u001b[0m",
      "\u001b[1;31mKeyError\u001b[0m                                  Traceback (most recent call last)",
      "\u001b[1;32m<ipython-input-12-d821abed47d6>\u001b[0m in \u001b[0;36m<module>\u001b[1;34m\u001b[0m\n\u001b[1;32m----> 1\u001b[1;33m \u001b[0mprint\u001b[0m\u001b[1;33m(\u001b[0m\u001b[0md\u001b[0m\u001b[1;33m[\u001b[0m\u001b[1;36m2\u001b[0m\u001b[1;33m]\u001b[0m\u001b[1;33m[\u001b[0m\u001b[1;36m3\u001b[0m\u001b[1;33m]\u001b[0m\u001b[1;33m)\u001b[0m\u001b[1;33m\u001b[0m\u001b[1;33m\u001b[0m\u001b[0m\n\u001b[0m",
      "\u001b[1;31mKeyError\u001b[0m: 2"
     ]
    }
   ],
   "source": [
    "print(d[2][3])"
   ]
  },
  {
   "cell_type": "code",
   "execution_count": 11,
   "metadata": {},
   "outputs": [
    {
     "name": "stdout",
     "output_type": "stream",
     "text": [
      "a b\n"
     ]
    }
   ],
   "source": [
    "print(*d[2, 3])"
   ]
  },
  {
   "cell_type": "code",
   "execution_count": 10,
   "metadata": {},
   "outputs": [
    {
     "ename": "KeyError",
     "evalue": "0",
     "output_type": "error",
     "traceback": [
      "\u001b[1;31m---------------------------------------------------------------------------\u001b[0m",
      "\u001b[1;31mKeyError\u001b[0m                                  Traceback (most recent call last)",
      "\u001b[1;32m<ipython-input-10-e386ee37f4c6>\u001b[0m in \u001b[0;36m<module>\u001b[1;34m\u001b[0m\n\u001b[1;32m----> 1\u001b[1;33m \u001b[0mprint\u001b[0m\u001b[1;33m(\u001b[0m\u001b[0md\u001b[0m\u001b[1;33m[\u001b[0m\u001b[1;36m0\u001b[0m\u001b[1;33m]\u001b[0m\u001b[1;33m,\u001b[0m \u001b[0md\u001b[0m\u001b[1;33m[\u001b[0m\u001b[1;36m1\u001b[0m\u001b[1;33m]\u001b[0m\u001b[1;33m)\u001b[0m\u001b[1;33m\u001b[0m\u001b[1;33m\u001b[0m\u001b[0m\n\u001b[0m",
      "\u001b[1;31mKeyError\u001b[0m: 0"
     ]
    }
   ],
   "source": [
    "print(d[0], d[1])"
   ]
  },
  {
   "cell_type": "code",
   "execution_count": 15,
   "metadata": {},
   "outputs": [
    {
     "name": "stdout",
     "output_type": "stream",
     "text": [
      "1 1\n"
     ]
    }
   ],
   "source": [
    "\n",
    "class A:\n",
    "    x = 1\n",
    "    l = []\n",
    "a1, a2 = A(), A()\n",
    "a1.x = 2\n",
    "a1.l.append(100)\n",
    "print(a2.x, len(a2.l))"
   ]
  },
  {
   "cell_type": "code",
   "execution_count": null,
   "metadata": {},
   "outputs": [],
   "source": [
    "1 0\n",
    "1 1\n",
    "2 1\n",
    "2 0\n",
    "1 100"
   ]
  },
  {
   "cell_type": "code",
   "execution_count": 1,
   "metadata": {},
   "outputs": [
    {
     "name": "stdout",
     "output_type": "stream",
     "text": [
      "1 [1, 1]\n"
     ]
    }
   ],
   "source": [
    "\n",
    "class C:\n",
    "    listing = []  \n",
    "    \n",
    "x = C()  \n",
    "x.listing.append(1)\n",
    "x.listing.append(1)\n",
    "x.listing = 1\n",
    "print(x.listing, C.listing)"
   ]
  },
  {
   "cell_type": "code",
   "execution_count": null,
   "metadata": {},
   "outputs": [],
   "source": [
    "1 [1]\n",
    "[1] [1]\n",
    "1 [1, 1]\n",
    "[1, 1] 1\n",
    "[1, 1] [1, 1]"
   ]
  },
  {
   "cell_type": "code",
   "execution_count": 25,
   "metadata": {},
   "outputs": [
    {
     "name": "stdout",
     "output_type": "stream",
     "text": [
      "4\n"
     ]
    }
   ],
   "source": [
    "\n",
    "def f():\n",
    "    setattr(f, \"x\", getattr(f, \"x\", 0) + 1)\n",
    "    f.f = f\n",
    "    return f\n",
    "x = f()()().f.f.f().f.x\n",
    "print(x)"
   ]
  },
  {
   "cell_type": "code",
   "execution_count": null,
   "metadata": {},
   "outputs": [],
   "source": [
    "1\n",
    "2\n",
    "3\n",
    "4\n",
    "5\n",
    "TypeError\n",
    "AttributeError\n",
    "ValueError"
   ]
  },
  {
   "cell_type": "code",
   "execution_count": 20,
   "metadata": {},
   "outputs": [
    {
     "data": {
      "text/plain": [
       "{'x': 1, 'f': <function __main__.f()>}"
      ]
     },
     "execution_count": 20,
     "metadata": {},
     "output_type": "execute_result"
    }
   ],
   "source": [
    "f.__dict__"
   ]
  },
  {
   "cell_type": "code",
   "execution_count": 2,
   "metadata": {},
   "outputs": [
    {
     "name": "stdout",
     "output_type": "stream",
     "text": [
      "f from B g from A 1 2\n"
     ]
    }
   ],
   "source": [
    "\n",
    "class A:\n",
    "    __x = 1\n",
    "    def f(self):\n",
    "        return \"f from A\"\n",
    "    \n",
    "    def g(self):\n",
    "        return \"g from A\"\n",
    "\n",
    "class B:\n",
    "    __x = 2\n",
    "    def f(self):\n",
    "        return \"f from B\"\n",
    "    \n",
    "    def g(self):\n",
    "        return \"g from B\"\n",
    "\n",
    "class C(A, B):\n",
    "    f = B.f\n",
    "    \n",
    "c = C()\n",
    "print(c.f(), c.g(), c._A__x, c._B__x)"
   ]
  },
  {
   "cell_type": "code",
   "execution_count": null,
   "metadata": {},
   "outputs": [],
   "source": [
    "f from A g from A 1 2\n",
    "f from B g from B 1 2\n",
    "f from A g from B 1 2\n",
    "f from A g from B 2 1\n",
    "f from B g from A 1 1\n",
    "f from B g from A 2 2\n",
    "f from B g from A 1 2\n",
    "f from B g from A 2 1"
   ]
  },
  {
   "cell_type": "code",
   "execution_count": 19,
   "metadata": {},
   "outputs": [
    {
     "name": "stdout",
     "output_type": "stream",
     "text": [
      "[1, 'b']\n"
     ]
    }
   ],
   "source": [
    "\n",
    "def intersect(*seqs):\n",
    "    if len(seqs) > 2:\n",
    "        return intersect(seqs[0], intersect(*seqs[1:]))\n",
    "    seq1, seq2 = seqs[0], seqs[1]\n",
    "    res = []\n",
    "    for x in seq1:\n",
    "        if x in seq2:\n",
    "            res.append(x)    \n",
    "    return res\n",
    "\n",
    "x = intersect([1, 2, \"a\", \"b\"], (1, 4, \"b\"), {1, \"b\", \"c\"}) \n",
    "print(x)"
   ]
  },
  {
   "cell_type": "code",
   "execution_count": null,
   "metadata": {},
   "outputs": [],
   "source": [
    "[1, 2, 4, 'a', 'b', 'c']\n",
    "[1, 'b', 'c']\n",
    "[1, 'b']\n",
    "[1]\n",
    "([1, 2, 'a', 'b'], [1, 'b'])\n",
    "IndexError\n"
   ]
  },
  {
   "cell_type": "code",
   "execution_count": 6,
   "metadata": {},
   "outputs": [
    {
     "name": "stdout",
     "output_type": "stream",
     "text": [
      "14\n"
     ]
    }
   ],
   "source": [
    "\n",
    "def f(n):\n",
    "    return 0 if n == 0 else 2**n + f(n-1)\n",
    "print(f(3))"
   ]
  },
  {
   "cell_type": "code",
   "execution_count": null,
   "metadata": {},
   "outputs": [],
   "source": [
    "0\n",
    "8\n",
    "12\n",
    "13\n",
    "14\n",
    "16"
   ]
  },
  {
   "cell_type": "code",
   "execution_count": 7,
   "metadata": {},
   "outputs": [
    {
     "name": "stdout",
     "output_type": "stream",
     "text": [
      "2 1\n"
     ]
    }
   ],
   "source": [
    "\n",
    "def f():\n",
    "    x = 1\n",
    "    y = 1\n",
    "    def g():\n",
    "        nonlocal x\n",
    "        x, y = 2, 2\n",
    "    g()\n",
    "    print(x, y)\n",
    "\n",
    "f()"
   ]
  },
  {
   "cell_type": "code",
   "execution_count": null,
   "metadata": {},
   "outputs": [],
   "source": [
    "1 1\n",
    "1 2\n",
    "2 1\n",
    "2 2\n",
    "NameError"
   ]
  },
  {
   "cell_type": "code",
   "execution_count": 2,
   "metadata": {},
   "outputs": [
    {
     "name": "stdout",
     "output_type": "stream",
     "text": [
      "исключение\n",
      "1\n",
      "2\n"
     ]
    },
    {
     "ename": "NameError",
     "evalue": "name 'my_err' is not defined",
     "output_type": "error",
     "traceback": [
      "\u001b[1;31m---------------------------------------------------------------------------\u001b[0m",
      "\u001b[1;31mNameError\u001b[0m                                 Traceback (most recent call last)",
      "\u001b[1;32m<ipython-input-2-46fb9637ab99>\u001b[0m in \u001b[0;36m<module>\u001b[1;34m\u001b[0m\n\u001b[0;32m      7\u001b[0m \u001b[0mprint\u001b[0m\u001b[1;33m(\u001b[0m\u001b[0mmy_x\u001b[0m\u001b[1;33m)\u001b[0m                       \u001b[1;31m#3\u001b[0m\u001b[1;33m\u001b[0m\u001b[1;33m\u001b[0m\u001b[0m\n\u001b[0;32m      8\u001b[0m \u001b[0mprint\u001b[0m\u001b[1;33m(\u001b[0m\u001b[0mmy_y\u001b[0m\u001b[1;33m)\u001b[0m                       \u001b[1;31m#4\u001b[0m\u001b[1;33m\u001b[0m\u001b[1;33m\u001b[0m\u001b[0m\n\u001b[1;32m----> 9\u001b[1;33m \u001b[0mprint\u001b[0m\u001b[1;33m(\u001b[0m\u001b[0mmy_err\u001b[0m\u001b[1;33m)\u001b[0m                     \u001b[1;31m#5\u001b[0m\u001b[1;33m\u001b[0m\u001b[1;33m\u001b[0m\u001b[0m\n\u001b[0m",
      "\u001b[1;31mNameError\u001b[0m: name 'my_err' is not defined"
     ]
    }
   ],
   "source": [
    "\n",
    "try:\n",
    "    my_x = 1\n",
    "    raise Exception('исключение') #1\n",
    "except Exception as my_err:\n",
    "    print(my_err)                 #2\n",
    "    my_y = 2\n",
    "print(my_x)                       #3\n",
    "print(my_y)                       #4\n",
    "print(my_err)                     #5"
   ]
  },
  {
   "cell_type": "code",
   "execution_count": null,
   "metadata": {},
   "outputs": [],
   "source": [
    "#Какая из строчек в данном коде вызовет неперехваченное исключение\n",
    "1\n",
    "2\n",
    "3\n",
    "4\n",
    "5"
   ]
  },
  {
   "cell_type": "code",
   "execution_count": null,
   "metadata": {},
   "outputs": [],
   "source": [
    "5 - верно"
   ]
  },
  {
   "cell_type": "code",
   "execution_count": 1,
   "metadata": {},
   "outputs": [
    {
     "name": "stdout",
     "output_type": "stream",
     "text": [
      "1 2 2 2\n"
     ]
    }
   ],
   "source": [
    "\n",
    "x = 1\n",
    "def f1():\n",
    "    return x\n",
    "def f2():\n",
    "    global x\n",
    "    x = 2\n",
    "    return x\n",
    "def f3():\n",
    "    global x\n",
    "    return x\n",
    "print(f1(), f2(), f3(), f1())"
   ]
  },
  {
   "cell_type": "code",
   "execution_count": null,
   "metadata": {},
   "outputs": [],
   "source": [
    "1 2 1 1\n",
    "1 2 2 1\n",
    "1 2 2 2\n",
    "1 2 1 2\n",
    "2 2 2 2"
   ]
  },
  {
   "cell_type": "code",
   "execution_count": null,
   "metadata": {},
   "outputs": [],
   "source": [
    "#телеграм только\n",
    "__builtins__.float, __builtins__.int = int, float\n",
    "x, y = isinstance(2, float), isinstance(2.0, int)\n",
    "print(x, y)"
   ]
  },
  {
   "cell_type": "code",
   "execution_count": null,
   "metadata": {},
   "outputs": [],
   "source": [
    "int = 1\n",
    "del int\n",
    "print(int)"
   ]
  },
  {
   "cell_type": "code",
   "execution_count": 1,
   "metadata": {},
   "outputs": [
    {
     "ename": "SyntaxError",
     "evalue": "invalid syntax (<ipython-input-1-7b5ff207ca62>, line 2)",
     "output_type": "error",
     "traceback": [
      "\u001b[1;36m  File \u001b[1;32m\"<ipython-input-1-7b5ff207ca62>\"\u001b[1;36m, line \u001b[1;32m2\u001b[0m\n\u001b[1;33m    Даны два модуля testmod.py и runmod.py\u001b[0m\n\u001b[1;37m         ^\u001b[0m\n\u001b[1;31mSyntaxError\u001b[0m\u001b[1;31m:\u001b[0m invalid syntax\n"
     ]
    }
   ],
   "source": [
    "Даны два модуля testmod.py и runmod.py\n",
    "#testmod.py\n",
    "x = 0\n",
    "def f1():\n",
    "    x = 10\n",
    "def f2():\n",
    "    global x\n",
    "    x += 1   \n",
    "def f3():\n",
    "    import testmod\n",
    "    testmod.x += 1\n",
    "def f4():\n",
    "    import sys\n",
    "    sys.modules[\"testmod\"].x += 1\n",
    "    \n",
    "#runmod.py\n",
    "import testmod as t\n",
    "t.f1();t.f2();t.f3();t.f4()\n",
    "print(t.x)"
   ]
  },
  {
   "cell_type": "code",
   "execution_count": null,
   "metadata": {},
   "outputs": [],
   "source": [
    "Точкой входа в программу является модуль runmod.py.\n",
    "Какой будет вывод?"
   ]
  },
  {
   "cell_type": "code",
   "execution_count": null,
   "metadata": {},
   "outputs": [],
   "source": [
    "0\n",
    "1\n",
    "2\n",
    "3\n",
    "10\n",
    "11\n",
    "12\n",
    "13\n"
   ]
  },
  {
   "cell_type": "code",
   "execution_count": 2,
   "metadata": {},
   "outputs": [
    {
     "name": "stdout",
     "output_type": "stream",
     "text": [
      "5 9\n"
     ]
    }
   ],
   "source": [
    "def maker(n):\n",
    "    s = 0\n",
    "    def g(x=n):\n",
    "        nonlocal s\n",
    "        s += x\n",
    "        return s\n",
    "    return lambda x: s + x + g()\n",
    "f = maker(2)\n",
    "print(f(3), f(3))\n"
   ]
  },
  {
   "cell_type": "code",
   "execution_count": null,
   "metadata": {},
   "outputs": [],
   "source": [
    "3 5\n",
    "5 5\n",
    "7 7\n",
    "5 7\n",
    "5 9\n",
    "7 9\n",
    "9 9"
   ]
  },
  {
   "cell_type": "code",
   "execution_count": 10,
   "metadata": {},
   "outputs": [
    {
     "name": "stdout",
     "output_type": "stream",
     "text": [
      "25 25\n"
     ]
    }
   ],
   "source": [
    "f = lambda x, f=lambda x: x**2:  f(x)\n",
    "print(f(5), f(5, f))"
   ]
  },
  {
   "cell_type": "code",
   "execution_count": null,
   "metadata": {},
   "outputs": [],
   "source": [
    "5 5\n",
    "5 (5, 5)\n",
    "5 25\n",
    "5 125\n",
    "5 (25, 25)\n",
    "25 25\n",
    "25 125\n",
    "125 125\n",
    "5 (125, 125)"
   ]
  },
  {
   "cell_type": "code",
   "execution_count": 11,
   "metadata": {},
   "outputs": [
    {
     "name": "stdout",
     "output_type": "stream",
     "text": [
      "576\n"
     ]
    }
   ],
   "source": [
    "def maker(n, h=lambda: 3):\n",
    "    return lambda f=h: f()**n, lambda f=h: n**f()\n",
    "f, g = maker(2)\n",
    "r = f(g) + g(f)\n",
    "print(r)"
   ]
  },
  {
   "cell_type": "code",
   "execution_count": null,
   "metadata": {},
   "outputs": [],
   "source": [
    "5\n",
    "17\n",
    "31\n",
    "72\n",
    "73\n",
    "128\n",
    "576\n",
    "19699\n"
   ]
  },
  {
   "cell_type": "code",
   "execution_count": 1,
   "metadata": {},
   "outputs": [
    {
     "name": "stdout",
     "output_type": "stream",
     "text": [
      "125\n"
     ]
    }
   ],
   "source": [
    "funcs = [lambda x: x**i for i in range(2, 4)]\n",
    "print(funcs[0](5))"
   ]
  },
  {
   "cell_type": "code",
   "execution_count": null,
   "metadata": {},
   "outputs": [],
   "source": [
    "5\n",
    "25\n",
    "[25]\n",
    "125\n",
    "[25, 125]\n",
    "625"
   ]
  },
  {
   "cell_type": "code",
   "execution_count": 2,
   "metadata": {},
   "outputs": [
    {
     "ename": "SyntaxError",
     "evalue": "no binding for nonlocal 'x' found (<ipython-input-2-66dabc96237b>, line 3)",
     "output_type": "error",
     "traceback": [
      "\u001b[1;36m  File \u001b[1;32m\"<ipython-input-2-66dabc96237b>\"\u001b[1;36m, line \u001b[1;32m3\u001b[0m\n\u001b[1;33m    nonlocal x\u001b[0m\n\u001b[1;37m    ^\u001b[0m\n\u001b[1;31mSyntaxError\u001b[0m\u001b[1;31m:\u001b[0m no binding for nonlocal 'x' found\n"
     ]
    }
   ],
   "source": [
    "def f():\n",
    "    def g():\n",
    "        nonlocal x\n",
    "        x = 2\n",
    "    g()\n",
    "    print(x)   \n",
    "f()"
   ]
  },
  {
   "cell_type": "code",
   "execution_count": null,
   "metadata": {},
   "outputs": [],
   "source": [
    "2\n",
    "None\n",
    "SyntaxError\n",
    "NameError"
   ]
  },
  {
   "cell_type": "code",
   "execution_count": 3,
   "metadata": {},
   "outputs": [
    {
     "name": "stdout",
     "output_type": "stream",
     "text": [
      "2\n"
     ]
    }
   ],
   "source": [
    "def f():\n",
    "    def g():\n",
    "        global x\n",
    "        x = 2\n",
    "    g()\n",
    "    print(x)   \n",
    "f()"
   ]
  },
  {
   "cell_type": "code",
   "execution_count": null,
   "metadata": {},
   "outputs": [],
   "source": [
    "2\n",
    "None\n",
    "SyntaxError\n",
    "NameError"
   ]
  },
  {
   "cell_type": "code",
   "execution_count": 2,
   "metadata": {},
   "outputs": [
    {
     "ename": "UnboundLocalError",
     "evalue": "local variable 'x' referenced before assignment",
     "output_type": "error",
     "traceback": [
      "\u001b[1;31m---------------------------------------------------------------------------\u001b[0m",
      "\u001b[1;31mUnboundLocalError\u001b[0m                         Traceback (most recent call last)",
      "\u001b[1;32m<ipython-input-2-368d93366b36>\u001b[0m in \u001b[0;36m<module>\u001b[1;34m\u001b[0m\n\u001b[0;32m      5\u001b[0m     \u001b[0mg\u001b[0m\u001b[1;33m(\u001b[0m\u001b[1;33m)\u001b[0m\u001b[1;33m\u001b[0m\u001b[1;33m\u001b[0m\u001b[0m\n\u001b[0;32m      6\u001b[0m     \u001b[0mprint\u001b[0m\u001b[1;33m(\u001b[0m\u001b[0mx\u001b[0m\u001b[1;33m)\u001b[0m\u001b[1;33m\u001b[0m\u001b[1;33m\u001b[0m\u001b[0m\n\u001b[1;32m----> 7\u001b[1;33m \u001b[0mprint\u001b[0m\u001b[1;33m(\u001b[0m\u001b[0mf\u001b[0m\u001b[1;33m(\u001b[0m\u001b[1;33m)\u001b[0m\u001b[1;33m)\u001b[0m\u001b[1;33m\u001b[0m\u001b[1;33m\u001b[0m\u001b[0m\n\u001b[0m",
      "\u001b[1;32m<ipython-input-2-368d93366b36>\u001b[0m in \u001b[0;36mf\u001b[1;34m()\u001b[0m\n\u001b[0;32m      3\u001b[0m     \u001b[1;32mdef\u001b[0m \u001b[0mg\u001b[0m\u001b[1;33m(\u001b[0m\u001b[1;33m)\u001b[0m\u001b[1;33m:\u001b[0m\u001b[1;33m\u001b[0m\u001b[1;33m\u001b[0m\u001b[0m\n\u001b[0;32m      4\u001b[0m         \u001b[0mx\u001b[0m \u001b[1;33m+=\u001b[0m \u001b[1;36m1\u001b[0m\u001b[1;33m\u001b[0m\u001b[1;33m\u001b[0m\u001b[0m\n\u001b[1;32m----> 5\u001b[1;33m     \u001b[0mg\u001b[0m\u001b[1;33m(\u001b[0m\u001b[1;33m)\u001b[0m\u001b[1;33m\u001b[0m\u001b[1;33m\u001b[0m\u001b[0m\n\u001b[0m\u001b[0;32m      6\u001b[0m     \u001b[0mprint\u001b[0m\u001b[1;33m(\u001b[0m\u001b[0mx\u001b[0m\u001b[1;33m)\u001b[0m\u001b[1;33m\u001b[0m\u001b[1;33m\u001b[0m\u001b[0m\n\u001b[0;32m      7\u001b[0m \u001b[0mprint\u001b[0m\u001b[1;33m(\u001b[0m\u001b[0mf\u001b[0m\u001b[1;33m(\u001b[0m\u001b[1;33m)\u001b[0m\u001b[1;33m)\u001b[0m\u001b[1;33m\u001b[0m\u001b[1;33m\u001b[0m\u001b[0m\n",
      "\u001b[1;32m<ipython-input-2-368d93366b36>\u001b[0m in \u001b[0;36mg\u001b[1;34m()\u001b[0m\n\u001b[0;32m      2\u001b[0m     \u001b[0mx\u001b[0m \u001b[1;33m=\u001b[0m \u001b[1;36m1\u001b[0m\u001b[1;33m\u001b[0m\u001b[1;33m\u001b[0m\u001b[0m\n\u001b[0;32m      3\u001b[0m     \u001b[1;32mdef\u001b[0m \u001b[0mg\u001b[0m\u001b[1;33m(\u001b[0m\u001b[1;33m)\u001b[0m\u001b[1;33m:\u001b[0m\u001b[1;33m\u001b[0m\u001b[1;33m\u001b[0m\u001b[0m\n\u001b[1;32m----> 4\u001b[1;33m         \u001b[0mx\u001b[0m \u001b[1;33m+=\u001b[0m \u001b[1;36m1\u001b[0m\u001b[1;33m\u001b[0m\u001b[1;33m\u001b[0m\u001b[0m\n\u001b[0m\u001b[0;32m      5\u001b[0m     \u001b[0mg\u001b[0m\u001b[1;33m(\u001b[0m\u001b[1;33m)\u001b[0m\u001b[1;33m\u001b[0m\u001b[1;33m\u001b[0m\u001b[0m\n\u001b[0;32m      6\u001b[0m     \u001b[0mprint\u001b[0m\u001b[1;33m(\u001b[0m\u001b[0mx\u001b[0m\u001b[1;33m)\u001b[0m\u001b[1;33m\u001b[0m\u001b[1;33m\u001b[0m\u001b[0m\n",
      "\u001b[1;31mUnboundLocalError\u001b[0m: local variable 'x' referenced before assignment"
     ]
    }
   ],
   "source": [
    "def f():\n",
    "    x = 1\n",
    "    def g():\n",
    "        x += 1\n",
    "    g()\n",
    "    print(x)\n",
    "print(f())"
   ]
  },
  {
   "cell_type": "code",
   "execution_count": null,
   "metadata": {},
   "outputs": [],
   "source": [
    "1\n",
    "2\n",
    "None\n",
    "SyntaxError\n",
    "UnboundLocalError"
   ]
  },
  {
   "cell_type": "code",
   "execution_count": 4,
   "metadata": {},
   "outputs": [
    {
     "ename": "SyntaxError",
     "evalue": "no binding for nonlocal 'x' found (<ipython-input-4-17771fe3ba50>, line 5)",
     "output_type": "error",
     "traceback": [
      "\u001b[1;36m  File \u001b[1;32m\"<ipython-input-4-17771fe3ba50>\"\u001b[1;36m, line \u001b[1;32m5\u001b[0m\n\u001b[1;33m    nonlocal x\u001b[0m\n\u001b[1;37m    ^\u001b[0m\n\u001b[1;31mSyntaxError\u001b[0m\u001b[1;31m:\u001b[0m no binding for nonlocal 'x' found\n"
     ]
    }
   ],
   "source": [
    "x = 1\n",
    "def f():\n",
    "    def g():\n",
    "        nonlocal x \n",
    "        print(x)\n",
    "        x += 1\n",
    "    return g"
   ]
  },
  {
   "cell_type": "code",
   "execution_count": null,
   "metadata": {},
   "outputs": [],
   "source": [
    "1\n",
    "2\n",
    "None\n",
    "SyntaxError\n",
    "UnboundLocalError\n",
    "NameError"
   ]
  },
  {
   "cell_type": "code",
   "execution_count": 2,
   "metadata": {},
   "outputs": [
    {
     "name": "stdout",
     "output_type": "stream",
     "text": [
      "1 3 3\n"
     ]
    }
   ],
   "source": [
    "\n",
    "def f(name=\"\", value=0):\n",
    "    import sys\n",
    "    func_name = sys._getframe(0).f_code.co_name\n",
    "    func = sys._getframe(1).f_locals[func_name]\n",
    "    setattr(func, name, value)\n",
    "    return sum(func.__dict__.values())\n",
    "\n",
    "print(f(\"x\", 1), f(\"y\", 2), f())"
   ]
  },
  {
   "cell_type": "code",
   "execution_count": null,
   "metadata": {},
   "outputs": [],
   "source": [
    "1 1 1\n",
    "1 2 2\n",
    "1 2 3\n",
    "1 3 3\n",
    "1 2 None\n",
    "3 3 3"
   ]
  },
  {
   "cell_type": "markdown",
   "metadata": {},
   "source": [
    "#только телеграм\n",
    "\n",
    "Какой способ проверки того, что переменная `a` связана с None, является более предпочтительным?"
   ]
  },
  {
   "cell_type": "code",
   "execution_count": null,
   "metadata": {},
   "outputs": [],
   "source": [
    "#только телеграмм\n",
    "if not a:\n",
    "if a == None:\n",
    "if a is None:\n",
    "if bool(a) == False: \n",
    "if bool(a) is False:"
   ]
  },
  {
   "cell_type": "code",
   "execution_count": null,
   "metadata": {},
   "outputs": [],
   "source": [
    "Ответ"
   ]
  },
  {
   "cell_type": "code",
   "execution_count": null,
   "metadata": {},
   "outputs": [],
   "source": [
    "if a is None:"
   ]
  }
 ],
 "metadata": {
  "kernelspec": {
   "display_name": "Python 3",
   "language": "python",
   "name": "python3"
  },
  "language_info": {
   "codemirror_mode": {
    "name": "ipython",
    "version": 3
   },
   "file_extension": ".py",
   "mimetype": "text/x-python",
   "name": "python",
   "nbconvert_exporter": "python",
   "pygments_lexer": "ipython3",
   "version": "3.8.5"
  }
 },
 "nbformat": 4,
 "nbformat_minor": 4
}
