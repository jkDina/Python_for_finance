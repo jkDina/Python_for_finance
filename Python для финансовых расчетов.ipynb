{
 "cells": [
  {
   "cell_type": "markdown",
   "metadata": {},
   "source": [
    "# Python для финансовых расчетов"
   ]
  },
  {
   "cell_type": "code",
   "execution_count": 2,
   "metadata": {},
   "outputs": [],
   "source": [
    "import numpy as np"
   ]
  },
  {
   "cell_type": "code",
   "execution_count": null,
   "metadata": {},
   "outputs": [],
   "source": [
    "#r - ставка доходности\n",
    "#mu - ожидаемая ставка доходности (средняя)"
   ]
  },
  {
   "cell_type": "code",
   "execution_count": 20,
   "metadata": {},
   "outputs": [],
   "source": [
    "S0 = 10 #текущая цена\n",
    "S1 = np.array((20, 5))  #будущая цена: верхняя и нижняя граница"
   ]
  },
  {
   "cell_type": "code",
   "execution_count": 21,
   "metadata": {},
   "outputs": [
    {
     "data": {
      "text/plain": [
       "0.6"
      ]
     },
     "execution_count": 21,
     "metadata": {},
     "output_type": "execute_result"
    }
   ],
   "source": [
    "#вероятность события по оптимистичному и пессимистичному сценарию\n",
    "p = 0.4\n",
    "1 - p"
   ]
  },
  {
   "cell_type": "code",
   "execution_count": 22,
   "metadata": {},
   "outputs": [
    {
     "data": {
      "text/plain": [
       "array([0.4, 0.6])"
      ]
     },
     "execution_count": 22,
     "metadata": {},
     "output_type": "execute_result"
    }
   ],
   "source": [
    "P = np.array((p, 1-p))\n",
    "P"
   ]
  },
  {
   "cell_type": "code",
   "execution_count": 23,
   "metadata": {},
   "outputs": [],
   "source": [
    "#функция ставки доходности, где x1 и x0 денежные потоки\n",
    "def r(x0, x1):\n",
    "    return (x1 - x0) / x0 \n",
    "#ожидаемая ставка доходности (мат ожидание)\n",
    "mu = np.dot(P, r(S0, S1)) \n",
    "\n",
    "def sigma2(P, r, mu):\n",
    "    return np.dot(P, (r - mu) ** 2) \n",
    "#Волатильность\n",
    "def sigma(P, r, mu):\n",
    "    return np.sqrt(np.dot(P, (r - mu) ** 2)) \n"
   ]
  },
  {
   "cell_type": "code",
   "execution_count": 24,
   "metadata": {},
   "outputs": [
    {
     "data": {
      "text/plain": [
       "array([ 1. , -0.5])"
      ]
     },
     "execution_count": 24,
     "metadata": {},
     "output_type": "execute_result"
    }
   ],
   "source": [
    "r(S0, S1)"
   ]
  },
  {
   "cell_type": "code",
   "execution_count": 25,
   "metadata": {},
   "outputs": [
    {
     "data": {
      "text/plain": [
       "0.10000000000000003"
      ]
     },
     "execution_count": 25,
     "metadata": {},
     "output_type": "execute_result"
    }
   ],
   "source": [
    "mu"
   ]
  },
  {
   "cell_type": "code",
   "execution_count": 26,
   "metadata": {},
   "outputs": [
    {
     "data": {
      "text/plain": [
       "0.7348469228349535"
      ]
     },
     "execution_count": 26,
     "metadata": {},
     "output_type": "execute_result"
    }
   ],
   "source": [
    "sigma(P, r(S0, S1), mu)"
   ]
  },
  {
   "cell_type": "code",
   "execution_count": 17,
   "metadata": {},
   "outputs": [
    {
     "data": {
      "text/plain": [
       "Text(0, 0.5, '$C_1$')"
      ]
     },
     "execution_count": 17,
     "metadata": {},
     "output_type": "execute_result"
    },
    {
     "data": {
      "image/png": "[encoded data removed]",
      "text/plain": [
       "<Figure size 720x432 with 1 Axes>"
      ]
     },
     "metadata": {},
     "output_type": "display_data"
    }
   ],
   "source": [
    "#берем набор вариантов возможных цен на базовый инструмент в будущем\n",
    "S1 = np.arange(20) \n",
    "#Установление цены исполнения колл-опциона K (это наши расходы)\n",
    "K = 10 \n",
    "#выбираем что больще доходы в будущем минус расходы на опцион или 0\n",
    "C1 = np.maximum(S1 - K, 0) \n",
    "\n",
    "from pylab import mpl, plt \n",
    "plt.style.use('seaborn')\n",
    "mpl.rcParams['savefig.dpi'] = 300\n",
    "mpl.rcParams['font.family'] = 'serif'\n",
    "plt.figure(figsize=(10, 6))\n",
    "plt.plot(S1, C1, lw = 3.0, label='$C_1 = \\max(S_1 - K, 0)$') \n",
    "plt.legend(loc=0) \n",
    "plt.xlabel('$S_1$') \n",
    "plt.ylabel('$C_1$')"
   ]
  },
  {
   "cell_type": "code",
   "execution_count": null,
   "metadata": {},
   "outputs": [],
   "source": [
    "#График показывает, что при цене S1 менее 10, доходы будут 0. А при цене более 10 доходы увеличиваются от 0 до ..."
   ]
  },
  {
   "cell_type": "code",
   "execution_count": 5,
   "metadata": {},
   "outputs": [
    {
     "data": {
      "text/plain": [
       "array([-0.15151515,  0.33333333])"
      ]
     },
     "execution_count": 5,
     "metadata": {},
     "output_type": "execute_result"
    }
   ],
   "source": [
    "B = (10, np.array((11, 11))) #облигация без риска поэтому один сценарий с будущим доходом 11\n",
    "S = (10, np.array((20, 5))) #акция рисковая, поэтому два сценария оптимистичный (20) и пессимистичный (5)\n",
    "M = np.array((B[1], S[1])).T #Определение матрицы (двумерного объекта ndarray) с векторами будущих выплат\n",
    "K = 15 #Установление цены исполнения колл-опциона K (это наши расходы)\n",
    "C1 = np.maximum(S[1] - K, 0) #Вычисление значения вектора выплат через год\n",
    "phi = np.linalg.solve(M, C1) #Решение задачи репликации в матричной форме для получения оптимальной позиции портфеля\n",
    "phi"
   ]
  },
  {
   "cell_type": "code",
   "execution_count": null,
   "metadata": {},
   "outputs": [],
   "source": [
    "#-0.15151515 Доля облигаций равна 15,15%, но со знаком минус, \n",
    "#так как открыта короткая позиция по облигациям и мы деньги получили от продажи"
   ]
  },
  {
   "cell_type": "code",
   "execution_count": null,
   "metadata": {},
   "outputs": [],
   "source": [
    "#0.33333333 Доля купленных акций"
   ]
  },
  {
   "cell_type": "code",
   "execution_count": null,
   "metadata": {},
   "outputs": [],
   "source": [
    "#100% это полная доля используемых денег"
   ]
  },
  {
   "cell_type": "code",
   "execution_count": 30,
   "metadata": {},
   "outputs": [
    {
     "name": "stdout",
     "output_type": "stream",
     "text": [
      "0.18181818\n"
     ]
    }
   ],
   "source": [
    "#Мы использовали долю денег\n",
    "a = 0.33333333 - 0.15151515\n",
    "print(a)"
   ]
  },
  {
   "cell_type": "code",
   "execution_count": 32,
   "metadata": {},
   "outputs": [
    {
     "name": "stdout",
     "output_type": "stream",
     "text": [
      "0.81818182\n"
     ]
    }
   ],
   "source": [
    "#доля денег, которые могут быть вложены в безрисковый инструмент \n",
    "#для получения дополнительной доходности\n",
    "b = 1 - a\n",
    "print(b)"
   ]
  },
  {
   "cell_type": "code",
   "execution_count": null,
   "metadata": {},
   "outputs": [],
   "source": []
  },
  {
   "cell_type": "code",
   "execution_count": null,
   "metadata": {},
   "outputs": [],
   "source": []
  }
 ],
 "metadata": {
  "kernelspec": {
   "display_name": "Python 3",
   "language": "python",
   "name": "python3"
  },
  "language_info": {
   "codemirror_mode": {
    "name": "ipython",
    "version": 3
   },
   "file_extension": ".py",
   "mimetype": "text/x-python",
   "name": "python",
   "nbconvert_exporter": "python",
   "pygments_lexer": "ipython3",
   "version": "3.8.5"
  }
 },
 "nbformat": 4,
 "nbformat_minor": 4
}
