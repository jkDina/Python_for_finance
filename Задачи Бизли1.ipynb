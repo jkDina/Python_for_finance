{
 "cells": [
  {
   "cell_type": "markdown",
   "metadata": {},
   "source": [
    "# Задачи Бизли1 AI  Только новые задачи"
   ]
  },
  {
   "cell_type": "code",
   "execution_count": null,
   "metadata": {},
   "outputs": [],
   "source": [
    "Что выведет код?\n",
    "```python\n",
    "```\n",
    "Что выведет код?\n",
    "Выберите правильный вариант\n",
    "Посмотреть результаты"
   ]
  },
  {
   "cell_type": "code",
   "execution_count": null,
   "metadata": {},
   "outputs": [],
   "source": [
    "#1+"
   ]
  },
  {
   "cell_type": "code",
   "execution_count": null,
   "metadata": {},
   "outputs": [],
   "source": [
    "Какой метод словаря позволяет получить значение по ключу?"
   ]
  },
  {
   "cell_type": "code",
   "execution_count": null,
   "metadata": {},
   "outputs": [],
   "source": [
    "get_value\n",
    "at\n",
    "set_value\n",
    "find_key\n",
    "get     #"
   ]
  },
  {
   "cell_type": "code",
   "execution_count": null,
   "metadata": {},
   "outputs": [],
   "source": [
    "https://pythonz.net/references/named/dict.get/"
   ]
  },
  {
   "cell_type": "code",
   "execution_count": null,
   "metadata": {},
   "outputs": [],
   "source": [
    "Что выведет код?\n",
    "```python\n",
    "```\n",
    "Что выведет код?\n",
    "Выберите правильный вариант\n",
    "Посмотреть результаты"
   ]
  },
  {
   "cell_type": "code",
   "execution_count": null,
   "metadata": {},
   "outputs": [],
   "source": [
    "#2+"
   ]
  },
  {
   "cell_type": "code",
   "execution_count": null,
   "metadata": {},
   "outputs": [],
   "source": [
    "Что такое лямбда функция?"
   ]
  },
  {
   "cell_type": "code",
   "execution_count": null,
   "metadata": {},
   "outputs": [],
   "source": [
    "Функция, которая используется для вычисления значений определенных параметров\n",
    "Функция, которая может быть использована для создания анонимных функций #\n",
    "Функция, которая используется для создания сложных структур данных\n",
    "Функция, которая используется для создания сложных алгоритмов"
   ]
  },
  {
   "cell_type": "code",
   "execution_count": null,
   "metadata": {},
   "outputs": [],
   "source": [
    "https://habr.com/ru/company/piter/blog/674234/"
   ]
  },
  {
   "cell_type": "code",
   "execution_count": null,
   "metadata": {},
   "outputs": [],
   "source": [
    "Что выведет код?\n",
    "```python\n",
    "```\n",
    "Что выведет код?\n",
    "Выберите правильный вариант\n",
    "Посмотреть результаты"
   ]
  },
  {
   "cell_type": "code",
   "execution_count": null,
   "metadata": {},
   "outputs": [],
   "source": [
    "#3+"
   ]
  },
  {
   "cell_type": "code",
   "execution_count": 6,
   "metadata": {},
   "outputs": [
    {
     "name": "stdout",
     "output_type": "stream",
     "text": [
      "nonlocal nonlocal\n"
     ]
    }
   ],
   "source": [
    "def outer():\n",
    "    x = \"local\"\n",
    "    def inner():\n",
    "        nonlocal x\n",
    "        x = \"nonlocal\"\n",
    "        print(x, end=\" \")\n",
    "    inner()\n",
    "    print(x)\n",
    "outer()\n"
   ]
  },
  {
   "cell_type": "code",
   "execution_count": null,
   "metadata": {},
   "outputs": [],
   "source": [
    "local\n",
    "nonlocal\n",
    "nonlocal local\n",
    "nonlocal nonlocal   #\n",
    "local local\n",
    "local nonlocal"
   ]
  },
  {
   "cell_type": "markdown",
   "metadata": {},
   "source": [
    "В outer объявляется локальная переменная x и вложенная функция inner.\n",
    "В inner переменная x помечается как нелокальная, поэтому присвоение ей значения меняет x в outer. \n"
   ]
  },
  {
   "cell_type": "code",
   "execution_count": null,
   "metadata": {},
   "outputs": [],
   "source": [
    "Что выведет код?\n",
    "```python\n",
    "```\n",
    "Что выведет код?\n",
    "Выберите правильный вариант\n",
    "Посмотреть результаты"
   ]
  },
  {
   "cell_type": "code",
   "execution_count": null,
   "metadata": {},
   "outputs": [],
   "source": [
    "#4+"
   ]
  },
  {
   "cell_type": "code",
   "execution_count": 8,
   "metadata": {},
   "outputs": [
    {
     "name": "stdout",
     "output_type": "stream",
     "text": [
      "0 1 2 "
     ]
    }
   ],
   "source": [
    "def gen():\n",
    "    for i in range(3):\n",
    "        yield i\n",
    "for item in gen():\n",
    "    print(item, end=\" \")"
   ]
  },
  {
   "cell_type": "code",
   "execution_count": null,
   "metadata": {},
   "outputs": [],
   "source": [
    "0 1 2 3\n",
    "0 1 2  #\n",
    "0 1 \n",
    "1 2 3\n",
    "3"
   ]
  },
  {
   "cell_type": "markdown",
   "metadata": {},
   "source": [
    "Этот код использует функцию-генератор, чтобы вывести на экран значения от 0 до 2. В цикле for проходимся по всем элементам, которые возвращает функция-генератор, и выводим их на экран."
   ]
  },
  {
   "cell_type": "code",
   "execution_count": null,
   "metadata": {},
   "outputs": [],
   "source": [
    "Что выведет код?\n",
    "```python\n",
    "```\n",
    "Что выведет код?\n",
    "Выберите правильный вариант\n",
    "Посмотреть результаты"
   ]
  },
  {
   "cell_type": "code",
   "execution_count": null,
   "metadata": {},
   "outputs": [],
   "source": [
    "#5+"
   ]
  },
  {
   "cell_type": "code",
   "execution_count": 10,
   "metadata": {},
   "outputs": [
    {
     "name": "stdout",
     "output_type": "stream",
     "text": [
      "[(1, 'a'), (1, 'b'), (2, 'a'), (2, 'b')]\n"
     ]
    }
   ],
   "source": [
    "import itertools\n",
    "list1 = [1, 2]\n",
    "list2 = ['a', 'b']\n",
    "result = list(itertools.product(list1, list2)) \n",
    "print(result)"
   ]
  },
  {
   "cell_type": "code",
   "execution_count": null,
   "metadata": {},
   "outputs": [],
   "source": [
    "# Вопрос:\n",
    "Какой результат вернет код? \n",
    "A) [(1, 'a'), (1, 'b'), (2, 'a'), (2, 'b')]   #\n",
    "B) [(1, 2)] \n",
    "C) [(1, 2), ('a', 'b')] \n",
    "D) [(1, 'a', 2), (2, 'b', 1)] \n"
   ]
  },
  {
   "cell_type": "markdown",
   "metadata": {},
   "source": [
    "#Данный код импортирует модуль itertools, а затем создает списки list1 и list2. Затем функция product() из модуля itertools выполняет умножение двух списков, что приводит к списку со всеми возможными комбинациями элементов. В данном случае результат - [(1, 'a'), (1, 'b'), (2, 'a'), (2, 'b')]."
   ]
  },
  {
   "cell_type": "markdown",
   "metadata": {},
   "source": [
    "Функция product из модуля itertools выполняет умножение двух списков, что приводит к списку со всеми возможными комбинациями элементов. О функции product: https://pythonz.net/references/named/itertools.product/"
   ]
  },
  {
   "cell_type": "markdown",
   "metadata": {},
   "source": [
    "Функция product из модуля itertools выполняет умножение двух списков, что приводит к списку со всеми возможными комбинациями элементов. О product https://pythonz.net/references/named/itertools.product"
   ]
  },
  {
   "cell_type": "code",
   "execution_count": null,
   "metadata": {},
   "outputs": [],
   "source": [
    ".......////////////////////"
   ]
  },
  {
   "cell_type": "code",
   "execution_count": null,
   "metadata": {},
   "outputs": [],
   "source": [
    "Что выведет код?\n",
    "```python\n",
    "```\n",
    "Что выведет код?\n",
    "Выберите правильный вариант\n",
    "Посмотреть результаты"
   ]
  },
  {
   "cell_type": "code",
   "execution_count": null,
   "metadata": {},
   "outputs": [],
   "source": [
    "#6+"
   ]
  },
  {
   "cell_type": "code",
   "execution_count": 17,
   "metadata": {},
   "outputs": [
    {
     "name": "stdout",
     "output_type": "stream",
     "text": [
      "30\n"
     ]
    }
   ],
   "source": [
    "from functools import reduce\n",
    "class MyList:\n",
    "    def __init__(self, *args):\n",
    "        self.items = list(args)\n",
    "\n",
    "    def __len__(self):\n",
    "        return reduce(lambda acc, x: acc + (sum(x) if hasattr(x, '__iter__') else x), [x*2 for x in self.items])\n",
    "\n",
    "my_list = MyList(1, 2, 3, [4, 5])\n",
    "print(len(my_list))"
   ]
  },
  {
   "cell_type": "code",
   "execution_count": null,
   "metadata": {},
   "outputs": [],
   "source": [
    "15\n",
    "24\n",
    "25\n",
    "30  #\n",
    "50"
   ]
  },
  {
   "cell_type": "markdown",
   "metadata": {},
   "source": [
    "Создается список из аргументов. При вычислении длины, элементы удваиваются. reduce складывает все элементы, в том числе и вложенного списка."
   ]
  },
  {
   "cell_type": "code",
   "execution_count": null,
   "metadata": {},
   "outputs": [],
   "source": [
    "Что выведет код?\n",
    "```python\n",
    "```\n",
    "Что выведет код?\n",
    "Выберите правильный вариант\n",
    "Посмотреть результаты"
   ]
  },
  {
   "cell_type": "code",
   "execution_count": null,
   "metadata": {},
   "outputs": [],
   "source": [
    "#7+"
   ]
  },
  {
   "cell_type": "code",
   "execution_count": 29,
   "metadata": {},
   "outputs": [
    {
     "name": "stdout",
     "output_type": "stream",
     "text": [
      "9\n"
     ]
    }
   ],
   "source": [
    "a = {1, 2, 9}\n",
    "b = {2, 3, 9}\n",
    "c = a & b\n",
    "c.remove(2)\n",
    "print(*c)"
   ]
  },
  {
   "cell_type": "code",
   "execution_count": null,
   "metadata": {},
   "outputs": [],
   "source": [
    "1 3\n",
    "1 3 9\n",
    "2 3\n",
    "2 9\n",
    "9  #"
   ]
  },
  {
   "cell_type": "markdown",
   "metadata": {},
   "source": [
    "Находим пересечение двух множеств a и b - {2, 9}. Удаляем из него число 2."
   ]
  },
  {
   "cell_type": "code",
   "execution_count": null,
   "metadata": {},
   "outputs": [],
   "source": [
    "Что выведет код?\n",
    "```python\n",
    "```\n",
    "Что выведет код?\n",
    "Выберите правильный вариант\n",
    "Посмотреть результаты"
   ]
  },
  {
   "cell_type": "code",
   "execution_count": null,
   "metadata": {},
   "outputs": [],
   "source": [
    "#8+"
   ]
  },
  {
   "cell_type": "code",
   "execution_count": 28,
   "metadata": {},
   "outputs": [
    {
     "name": "stdout",
     "output_type": "stream",
     "text": [
      "True\n"
     ]
    }
   ],
   "source": [
    "a = {1, 2}\n",
    "b = {2, 3}\n",
    "c = (a | b) - (a & b)\n",
    "d = a ^ b\n",
    "print(c == d)"
   ]
  },
  {
   "cell_type": "code",
   "execution_count": null,
   "metadata": {},
   "outputs": [],
   "source": [
    "True  #\n",
    "False\n",
    "ValueError\n",
    "TypeError"
   ]
  },
  {
   "cell_type": "markdown",
   "metadata": {},
   "source": [
    "Операция \"|\" возвращает объединение двух множеств, а операция \"&\" - пересечение. Операция \"^\" возвращает симметрическую разность множеств, которая равна объединению минус пересечение.\n"
   ]
  },
  {
   "cell_type": "code",
   "execution_count": null,
   "metadata": {},
   "outputs": [],
   "source": [
    "Что выведет код?\n",
    "```python\n",
    "```\n",
    "Что выведет код?\n",
    "Выберите правильный вариант\n",
    "Посмотреть результаты"
   ]
  },
  {
   "cell_type": "code",
   "execution_count": null,
   "metadata": {},
   "outputs": [],
   "source": [
    "#9+"
   ]
  },
  {
   "cell_type": "code",
   "execution_count": 33,
   "metadata": {},
   "outputs": [
    {
     "name": "stdout",
     "output_type": "stream",
     "text": [
      "1 3\n"
     ]
    }
   ],
   "source": [
    "a, b = {1, 2}, {2, 3}\n",
    "c = a - b\n",
    "d = b - a\n",
    "print(*(c & d), *(c | d))"
   ]
  },
  {
   "cell_type": "code",
   "execution_count": null,
   "metadata": {},
   "outputs": [],
   "source": [
    "1\n",
    "2\n",
    "3\n",
    "1 2\n",
    "1 3  #\n",
    "2 3"
   ]
  },
  {
   "cell_type": "markdown",
   "metadata": {},
   "source": [
    "c = {1}, d = {3}\n",
    "c & d - пустое множество. c | d равно {1, 3}. "
   ]
  },
  {
   "cell_type": "code",
   "execution_count": null,
   "metadata": {},
   "outputs": [],
   "source": [
    "Что выведет код?\n",
    "```python\n",
    "```\n",
    "Что выведет код?\n",
    "Выберите правильный вариант\n",
    "Посмотреть результаты"
   ]
  },
  {
   "cell_type": "code",
   "execution_count": null,
   "metadata": {},
   "outputs": [],
   "source": [
    "#10+"
   ]
  },
  {
   "cell_type": "code",
   "execution_count": 35,
   "metadata": {},
   "outputs": [
    {
     "name": "stdout",
     "output_type": "stream",
     "text": [
      "6\n"
     ]
    }
   ],
   "source": [
    "my_list = [1, 2, 3, 4, 5]\n",
    "r = [x % 3 for x in my_list]\n",
    "print(sum(r))"
   ]
  },
  {
   "cell_type": "code",
   "execution_count": null,
   "metadata": {},
   "outputs": [],
   "source": [
    "1\n",
    "2\n",
    "3\n",
    "4\n",
    "5\n",
    "6  #\n",
    "7"
   ]
  },
  {
   "cell_type": "markdown",
   "metadata": {},
   "source": [
    "Списочное включение для получения списка чисел, полученных как остаток от деления элементов списка my_list на 3. Затем результат складывается. "
   ]
  },
  {
   "cell_type": "code",
   "execution_count": null,
   "metadata": {},
   "outputs": [],
   "source": [
    "Что выведет код?\n",
    "```python\n",
    "```\n",
    "Что выведет код?\n",
    "Выберите правильный вариант\n",
    "Посмотреть результаты"
   ]
  },
  {
   "cell_type": "code",
   "execution_count": null,
   "metadata": {},
   "outputs": [],
   "source": [
    "////////////////////////////////"
   ]
  },
  {
   "cell_type": "code",
   "execution_count": null,
   "metadata": {},
   "outputs": [],
   "source": [
    "#11"
   ]
  },
  {
   "cell_type": "code",
   "execution_count": 8,
   "metadata": {},
   "outputs": [
    {
     "name": "stdout",
     "output_type": "stream",
     "text": [
      "3 6 9 12 15\n"
     ]
    }
   ],
   "source": [
    "n = [1, 2, 3, 4, 5]\n",
    "ftr = 3\n",
    "try:\n",
    "    result = list(map(lambda x: x ** ftr, n))\n",
    "    raise \n",
    "except:\n",
    "    result = list(map(lambda x: x * ftr, n))\n",
    "print(*result)"
   ]
  },
  {
   "cell_type": "code",
   "execution_count": null,
   "metadata": {},
   "outputs": [],
   "source": [
    "1 2 3 4 5\n",
    "3 6 9 12 15  #\n",
    "3 3 3 3 3\n",
    "1 4 9 16 25\n",
    "1 6 27 64 125"
   ]
  },
  {
   "cell_type": "markdown",
   "metadata": {},
   "source": [
    "Преобразование элементов списка n с помощью функции map и анонимной функции lambda. Возводится каждый элемент списка n в степень ftr,  из-за оператора raise возникает исключение, и делается переход к except, где каждый элемент умножается на ftr. В итоге выводится результат умножения каждого элемента списка на число ftr."
   ]
  },
  {
   "cell_type": "code",
   "execution_count": null,
   "metadata": {},
   "outputs": [],
   "source": []
  }
 ],
 "metadata": {
  "kernelspec": {
   "display_name": "Python 3",
   "language": "python",
   "name": "python3"
  },
  "language_info": {
   "codemirror_mode": {
    "name": "ipython",
    "version": 3
   },
   "file_extension": ".py",
   "mimetype": "text/x-python",
   "name": "python",
   "nbconvert_exporter": "python",
   "pygments_lexer": "ipython3",
   "version": "3.8.5"
  }
 },
 "nbformat": 4,
 "nbformat_minor": 4
}
