{
 "cells": [
  {
   "cell_type": "markdown",
   "metadata": {},
   "source": [
    "# Задачи7"
   ]
  },
  {
   "cell_type": "code",
   "execution_count": null,
   "metadata": {},
   "outputs": [],
   "source": [
    "#1"
   ]
  },
  {
   "cell_type": "code",
   "execution_count": null,
   "metadata": {},
   "outputs": [],
   "source": [
    "Даны 4 варианта кода:"
   ]
  },
  {
   "cell_type": "code",
   "execution_count": 2,
   "metadata": {},
   "outputs": [
    {
     "data": {
      "text/plain": [
       "[0, 4, 16]"
      ]
     },
     "execution_count": 2,
     "metadata": {},
     "output_type": "execute_result"
    }
   ],
   "source": [
    "[х ** 2 for х in range(5) if х % 2 == 0]"
   ]
  },
  {
   "cell_type": "code",
   "execution_count": 3,
   "metadata": {},
   "outputs": [
    {
     "data": {
      "text/plain": [
       "[0, 4, 16]"
      ]
     },
     "execution_count": 3,
     "metadata": {},
     "output_type": "execute_result"
    }
   ],
   "source": [
    "list(map(lambda x: x**2, filter(lambda x: x % 2 == 0, range(5))))"
   ]
  },
  {
   "cell_type": "code",
   "execution_count": 4,
   "metadata": {},
   "outputs": [
    {
     "data": {
      "text/plain": [
       "[0, 4, 16]"
      ]
     },
     "execution_count": 4,
     "metadata": {},
     "output_type": "execute_result"
    }
   ],
   "source": [
    "res = []\n",
    "for x in range(5):\n",
    "    if x % 2 == 0:\n",
    "        y = x**2\n",
    "        res.append(y)\n",
    "print(res)"
   ]
  },
  {
   "cell_type": "code",
   "execution_count": 7,
   "metadata": {},
   "outputs": [
    {
     "data": {
      "text/plain": [
       "[True, False, True, False, True]"
      ]
     },
     "execution_count": 7,
     "metadata": {},
     "output_type": "execute_result"
    }
   ],
   "source": [
    "list(map(lambda x: x ** 2 % 4 == 0, range(5)))"
   ]
  },
  {
   "cell_type": "code",
   "execution_count": null,
   "metadata": {},
   "outputs": [],
   "source": [
    "Какой из вариантов не выведет [0, 4, 16]?"
   ]
  },
  {
   "cell_type": "code",
   "execution_count": null,
   "metadata": {},
   "outputs": [],
   "source": [
    "#2"
   ]
  },
  {
   "cell_type": "code",
   "execution_count": 13,
   "metadata": {},
   "outputs": [
    {
     "data": {
      "text/plain": [
       "[4, 8, 9, 27]"
      ]
     },
     "execution_count": 13,
     "metadata": {},
     "output_type": "execute_result"
    }
   ],
   "source": [
    "res = [х ** у for х in [2, 3] for у in [2, 3]]\n",
    "print(res)"
   ]
  },
  {
   "cell_type": "code",
   "execution_count": null,
   "metadata": {},
   "outputs": [],
   "source": [
    "[4, 8]\n",
    "[4, 27]\n",
    "[8, 9]\n",
    "[9, 27]\n",
    "[2, 3, 2, 3]\n",
    "[4, 6, 6, 9]\n",
    "[4, 8, 9, 27]"
   ]
  },
  {
   "cell_type": "code",
   "execution_count": null,
   "metadata": {},
   "outputs": [],
   "source": [
    "#3"
   ]
  },
  {
   "cell_type": "code",
   "execution_count": 25,
   "metadata": {},
   "outputs": [
    {
     "name": "stdout",
     "output_type": "stream",
     "text": [
      "100 899\n"
     ]
    }
   ],
   "source": [
    "password = 'password'\n",
    "adding = [х + у for х in '0123456789' for у in '0123456789']\n",
    "count = 0\n",
    "for a in adding:\n",
    "    password = password + a\n",
    "    count += 1\n",
    "print(count, password[-3:])"
   ]
  },
  {
   "cell_type": "code",
   "execution_count": null,
   "metadata": {},
   "outputs": [],
   "source": [
    "\n",
    "100 d99\n",
    "100 889\n",
    "100 899\n",
    "200 d99\n",
    "200 889\n",
    "200 899\n",
    "1024 d99\n",
    "1024 889\n",
    "1024 899\n"
   ]
  },
  {
   "cell_type": "code",
   "execution_count": null,
   "metadata": {},
   "outputs": [],
   "source": [
    "password34\n",
    "password44"
   ]
  },
  {
   "cell_type": "code",
   "execution_count": null,
   "metadata": {},
   "outputs": [],
   "source": [
    "36^2"
   ]
  },
  {
   "cell_type": "code",
   "execution_count": 6,
   "metadata": {},
   "outputs": [
    {
     "name": "stdout",
     "output_type": "stream",
     "text": [
      "password00\n",
      "password01\n",
      "password02\n",
      "password03\n",
      "password04\n",
      "password05\n",
      "password06\n",
      "password07\n",
      "password08\n",
      "password09\n",
      "password0a\n",
      "password0b\n",
      "password0c\n",
      "password0d\n",
      "password0e\n",
      "password0f\n",
      "password0g\n",
      "password0h\n",
      "password0i\n",
      "password0j\n",
      "password0k\n",
      "password0l\n",
      "password0m\n",
      "password0n\n",
      "password0o\n",
      "password0p\n",
      "password0q\n",
      "password0r\n",
      "password0s\n",
      "password0t\n",
      "password0u\n",
      "password0v\n",
      "password0w\n",
      "password0x\n",
      "password0y\n",
      "password0z\n",
      "password10\n",
      "password11\n",
      "password12\n",
      "password13\n",
      "password14\n",
      "password15\n",
      "password16\n",
      "password17\n",
      "password18\n",
      "password19\n",
      "password1a\n",
      "password1b\n",
      "password1c\n",
      "password1d\n",
      "password1e\n",
      "password1f\n",
      "password1g\n",
      "password1h\n",
      "password1i\n",
      "password1j\n",
      "password1k\n",
      "password1l\n",
      "password1m\n",
      "password1n\n",
      "password1o\n",
      "password1p\n",
      "password1q\n",
      "password1r\n",
      "password1s\n",
      "password1t\n",
      "password1u\n",
      "password1v\n",
      "password1w\n",
      "password1x\n",
      "password1y\n",
      "password1z\n",
      "password20\n",
      "password21\n",
      "password22\n",
      "password23\n",
      "password24\n",
      "password25\n",
      "password26\n",
      "password27\n",
      "password28\n",
      "password29\n",
      "password2a\n",
      "password2b\n",
      "password2c\n",
      "password2d\n",
      "password2e\n",
      "password2f\n",
      "password2g\n",
      "password2h\n",
      "password2i\n",
      "password2j\n",
      "password2k\n",
      "password2l\n",
      "password2m\n",
      "password2n\n",
      "password2o\n",
      "password2p\n",
      "password2q\n",
      "password2r\n",
      "password2s\n",
      "password2t\n",
      "password2u\n",
      "password2v\n",
      "password2w\n",
      "password2x\n",
      "password2y\n",
      "password2z\n",
      "password30\n",
      "password31\n",
      "password32\n",
      "password33\n",
      "password34\n",
      "password35\n",
      "password36\n",
      "password37\n",
      "password38\n",
      "password39\n",
      "password3a\n",
      "password3b\n",
      "password3c\n",
      "password3d\n",
      "password3e\n",
      "password3f\n",
      "password3g\n",
      "password3h\n",
      "password3i\n",
      "password3j\n",
      "password3k\n",
      "password3l\n",
      "password3m\n",
      "password3n\n",
      "password3o\n",
      "password3p\n",
      "password3q\n",
      "password3r\n",
      "password3s\n",
      "password3t\n",
      "password3u\n",
      "password3v\n",
      "password3w\n",
      "password3x\n",
      "password3y\n",
      "password3z\n",
      "password40\n",
      "password41\n",
      "password42\n",
      "password43\n",
      "password44\n",
      "password45\n",
      "password46\n",
      "password47\n",
      "password48\n",
      "password49\n",
      "password4a\n",
      "password4b\n",
      "password4c\n",
      "password4d\n",
      "password4e\n",
      "password4f\n",
      "password4g\n",
      "password4h\n",
      "password4i\n",
      "password4j\n",
      "password4k\n",
      "password4l\n",
      "password4m\n",
      "password4n\n",
      "password4o\n",
      "password4p\n",
      "password4q\n",
      "password4r\n",
      "password4s\n",
      "password4t\n",
      "password4u\n",
      "password4v\n",
      "password4w\n",
      "password4x\n",
      "password4y\n",
      "password4z\n",
      "password50\n",
      "password51\n",
      "password52\n",
      "password53\n",
      "password54\n",
      "password55\n",
      "password56\n",
      "password57\n",
      "password58\n",
      "password59\n",
      "password5a\n",
      "password5b\n",
      "password5c\n",
      "password5d\n",
      "password5e\n",
      "password5f\n",
      "password5g\n",
      "password5h\n",
      "password5i\n",
      "password5j\n",
      "password5k\n",
      "password5l\n",
      "password5m\n",
      "password5n\n",
      "password5o\n",
      "password5p\n",
      "password5q\n",
      "password5r\n",
      "password5s\n",
      "password5t\n",
      "password5u\n",
      "password5v\n",
      "password5w\n",
      "password5x\n",
      "password5y\n",
      "password5z\n",
      "password60\n",
      "password61\n",
      "password62\n",
      "password63\n",
      "password64\n",
      "password65\n",
      "password66\n",
      "password67\n",
      "password68\n",
      "password69\n",
      "password6a\n",
      "password6b\n",
      "password6c\n",
      "password6d\n",
      "password6e\n",
      "password6f\n",
      "password6g\n",
      "password6h\n",
      "password6i\n",
      "password6j\n",
      "password6k\n",
      "password6l\n",
      "password6m\n",
      "password6n\n",
      "password6o\n",
      "password6p\n",
      "password6q\n",
      "password6r\n",
      "password6s\n",
      "password6t\n",
      "password6u\n",
      "password6v\n",
      "password6w\n",
      "password6x\n",
      "password6y\n",
      "password6z\n",
      "password70\n",
      "password71\n",
      "password72\n",
      "password73\n",
      "password74\n",
      "password75\n",
      "password76\n",
      "password77\n",
      "password78\n",
      "password79\n",
      "password7a\n",
      "password7b\n",
      "password7c\n",
      "password7d\n",
      "password7e\n",
      "password7f\n",
      "password7g\n",
      "password7h\n",
      "password7i\n",
      "password7j\n",
      "password7k\n",
      "password7l\n",
      "password7m\n",
      "password7n\n",
      "password7o\n",
      "password7p\n",
      "password7q\n",
      "password7r\n",
      "password7s\n",
      "password7t\n",
      "password7u\n",
      "password7v\n",
      "password7w\n",
      "password7x\n",
      "password7y\n",
      "password7z\n",
      "password80\n",
      "password81\n",
      "password82\n",
      "password83\n",
      "password84\n",
      "password85\n",
      "password86\n",
      "password87\n",
      "password88\n",
      "password89\n",
      "password8a\n",
      "password8b\n",
      "password8c\n",
      "password8d\n",
      "password8e\n",
      "password8f\n",
      "password8g\n",
      "password8h\n",
      "password8i\n",
      "password8j\n",
      "password8k\n",
      "password8l\n",
      "password8m\n",
      "password8n\n",
      "password8o\n",
      "password8p\n",
      "password8q\n",
      "password8r\n",
      "password8s\n",
      "password8t\n",
      "password8u\n",
      "password8v\n",
      "password8w\n",
      "password8x\n",
      "password8y\n",
      "password8z\n",
      "password90\n",
      "password91\n",
      "password92\n",
      "password93\n",
      "password94\n",
      "password95\n",
      "password96\n",
      "password97\n",
      "password98\n",
      "password99\n",
      "password9a\n",
      "password9b\n",
      "password9c\n",
      "password9d\n",
      "password9e\n",
      "password9f\n",
      "password9g\n",
      "password9h\n",
      "password9i\n",
      "password9j\n",
      "password9k\n",
      "password9l\n",
      "password9m\n",
      "password9n\n",
      "password9o\n",
      "password9p\n",
      "password9q\n",
      "password9r\n",
      "password9s\n",
      "password9t\n",
      "password9u\n",
      "password9v\n",
      "password9w\n",
      "password9x\n",
      "password9y\n",
      "password9z\n",
      "passworda0\n",
      "passworda1\n",
      "passworda2\n",
      "passworda3\n",
      "passworda4\n",
      "passworda5\n",
      "passworda6\n",
      "passworda7\n",
      "passworda8\n",
      "passworda9\n",
      "passwordaa\n",
      "passwordab\n",
      "passwordac\n",
      "passwordad\n",
      "passwordae\n",
      "passwordaf\n",
      "passwordag\n",
      "passwordah\n",
      "passwordai\n",
      "passwordaj\n",
      "passwordak\n",
      "passwordal\n",
      "passwordam\n",
      "passwordan\n",
      "passwordao\n",
      "passwordap\n",
      "passwordaq\n",
      "passwordar\n",
      "passwordas\n",
      "passwordat\n",
      "passwordau\n",
      "passwordav\n",
      "passwordaw\n",
      "passwordax\n",
      "passworday\n",
      "passwordaz\n",
      "passwordb0\n",
      "passwordb1\n",
      "passwordb2\n",
      "passwordb3\n",
      "passwordb4\n",
      "passwordb5\n",
      "passwordb6\n",
      "passwordb7\n",
      "passwordb8\n",
      "passwordb9\n",
      "passwordba\n",
      "passwordbb\n",
      "passwordbc\n",
      "passwordbd\n",
      "passwordbe\n",
      "passwordbf\n",
      "passwordbg\n",
      "passwordbh\n",
      "passwordbi\n",
      "passwordbj\n",
      "passwordbk\n",
      "passwordbl\n",
      "passwordbm\n",
      "passwordbn\n",
      "passwordbo\n",
      "passwordbp\n",
      "passwordbq\n",
      "passwordbr\n",
      "passwordbs\n",
      "passwordbt\n",
      "passwordbu\n",
      "passwordbv\n",
      "passwordbw\n",
      "passwordbx\n",
      "passwordby\n",
      "passwordbz\n",
      "passwordc0\n",
      "passwordc1\n",
      "passwordc2\n",
      "passwordc3\n",
      "passwordc4\n",
      "passwordc5\n",
      "passwordc6\n",
      "passwordc7\n",
      "passwordc8\n",
      "passwordc9\n",
      "passwordca\n",
      "passwordcb\n",
      "passwordcc\n",
      "passwordcd\n",
      "passwordce\n",
      "passwordcf\n",
      "passwordcg\n",
      "passwordch\n",
      "passwordci\n",
      "passwordcj\n",
      "passwordck\n",
      "passwordcl\n",
      "passwordcm\n",
      "passwordcn\n",
      "passwordco\n",
      "passwordcp\n",
      "passwordcq\n",
      "passwordcr\n",
      "passwordcs\n",
      "passwordct\n",
      "passwordcu\n",
      "passwordcv\n",
      "passwordcw\n",
      "passwordcx\n",
      "passwordcy\n",
      "passwordcz\n",
      "passwordd0\n",
      "passwordd1\n",
      "passwordd2\n",
      "passwordd3\n",
      "passwordd4\n",
      "passwordd5\n",
      "passwordd6\n",
      "passwordd7\n",
      "passwordd8\n",
      "passwordd9\n",
      "passwordda\n",
      "passworddb\n",
      "passworddc\n",
      "passworddd\n",
      "passwordde\n",
      "passworddf\n",
      "passworddg\n",
      "passworddh\n",
      "passworddi\n",
      "passworddj\n",
      "passworddk\n",
      "passworddl\n",
      "passworddm\n",
      "passworddn\n",
      "passworddo\n",
      "passworddp\n",
      "passworddq\n",
      "passworddr\n",
      "passwordds\n",
      "passworddt\n",
      "passworddu\n",
      "passworddv\n",
      "passworddw\n",
      "passworddx\n",
      "passworddy\n",
      "passworddz\n",
      "passworde0\n",
      "passworde1\n",
      "passworde2\n",
      "passworde3\n",
      "passworde4\n",
      "passworde5\n",
      "passworde6\n",
      "passworde7\n",
      "passworde8\n",
      "passworde9\n",
      "passwordea\n",
      "passwordeb\n",
      "passwordec\n",
      "passworded\n",
      "passwordee\n",
      "passwordef\n",
      "passwordeg\n",
      "passwordeh\n",
      "passwordei\n",
      "passwordej\n",
      "passwordek\n",
      "passwordel\n",
      "passwordem\n",
      "passworden\n",
      "passwordeo\n",
      "passwordep\n",
      "passwordeq\n",
      "passworder\n",
      "passwordes\n",
      "passwordet\n",
      "passwordeu\n",
      "passwordev\n",
      "passwordew\n",
      "passwordex\n",
      "passwordey\n",
      "passwordez\n",
      "passwordf0\n",
      "passwordf1\n",
      "passwordf2\n",
      "passwordf3\n",
      "passwordf4\n",
      "passwordf5\n",
      "passwordf6\n",
      "passwordf7\n",
      "passwordf8\n",
      "passwordf9\n",
      "passwordfa\n",
      "passwordfb\n",
      "passwordfc\n",
      "passwordfd\n",
      "passwordfe\n",
      "passwordff\n",
      "passwordfg\n",
      "passwordfh\n",
      "passwordfi\n",
      "passwordfj\n",
      "passwordfk\n",
      "passwordfl\n",
      "passwordfm\n",
      "passwordfn\n",
      "passwordfo\n",
      "passwordfp\n",
      "passwordfq\n",
      "passwordfr\n",
      "passwordfs\n",
      "passwordft\n",
      "passwordfu\n",
      "passwordfv\n",
      "passwordfw\n",
      "passwordfx\n",
      "passwordfy\n",
      "passwordfz\n",
      "passwordg0\n",
      "passwordg1\n",
      "passwordg2\n",
      "passwordg3\n",
      "passwordg4\n",
      "passwordg5\n",
      "passwordg6\n",
      "passwordg7\n",
      "passwordg8\n",
      "passwordg9\n",
      "passwordga\n",
      "passwordgb\n",
      "passwordgc\n",
      "passwordgd\n",
      "passwordge\n",
      "passwordgf\n",
      "passwordgg\n",
      "passwordgh\n",
      "passwordgi\n",
      "passwordgj\n",
      "passwordgk\n",
      "passwordgl\n",
      "passwordgm\n",
      "passwordgn\n",
      "passwordgo\n",
      "passwordgp\n",
      "passwordgq\n",
      "passwordgr\n",
      "passwordgs\n",
      "passwordgt\n",
      "passwordgu\n",
      "passwordgv\n",
      "passwordgw\n",
      "passwordgx\n",
      "passwordgy\n",
      "passwordgz\n",
      "passwordh0\n",
      "passwordh1\n",
      "passwordh2\n",
      "passwordh3\n",
      "passwordh4\n",
      "passwordh5\n",
      "passwordh6\n",
      "passwordh7\n",
      "passwordh8\n",
      "passwordh9\n",
      "passwordha\n",
      "passwordhb\n",
      "passwordhc\n",
      "passwordhd\n",
      "passwordhe\n",
      "passwordhf\n",
      "passwordhg\n",
      "passwordhh\n",
      "passwordhi\n",
      "passwordhj\n",
      "passwordhk\n",
      "passwordhl\n",
      "passwordhm\n",
      "passwordhn\n",
      "passwordho\n",
      "passwordhp\n",
      "passwordhq\n",
      "passwordhr\n",
      "passwordhs\n",
      "passwordht\n",
      "passwordhu\n",
      "passwordhv\n",
      "passwordhw\n",
      "passwordhx\n",
      "passwordhy\n",
      "passwordhz\n",
      "passwordi0\n",
      "passwordi1\n",
      "passwordi2\n",
      "passwordi3\n",
      "passwordi4\n",
      "passwordi5\n",
      "passwordi6\n",
      "passwordi7\n",
      "passwordi8\n",
      "passwordi9\n",
      "passwordia\n",
      "passwordib\n",
      "passwordic\n",
      "passwordid\n",
      "passwordie\n",
      "passwordif\n",
      "passwordig\n",
      "passwordih\n",
      "passwordii\n",
      "passwordij\n",
      "passwordik\n",
      "passwordil\n",
      "passwordim\n",
      "passwordin\n",
      "passwordio\n",
      "passwordip\n",
      "passwordiq\n",
      "passwordir\n",
      "passwordis\n",
      "passwordit\n",
      "passwordiu\n",
      "passwordiv\n",
      "passwordiw\n",
      "passwordix\n",
      "passwordiy\n",
      "passwordiz\n",
      "passwordj0\n",
      "passwordj1\n",
      "passwordj2\n",
      "passwordj3\n",
      "passwordj4\n",
      "passwordj5\n",
      "passwordj6\n",
      "passwordj7\n",
      "passwordj8\n",
      "passwordj9\n",
      "passwordja\n",
      "passwordjb\n",
      "passwordjc\n",
      "passwordjd\n",
      "passwordje\n",
      "passwordjf\n",
      "passwordjg\n",
      "passwordjh\n",
      "passwordji\n",
      "passwordjj\n",
      "passwordjk\n",
      "passwordjl\n",
      "passwordjm\n",
      "passwordjn\n",
      "passwordjo\n",
      "passwordjp\n",
      "passwordjq\n",
      "passwordjr\n",
      "passwordjs\n",
      "passwordjt\n",
      "passwordju\n",
      "passwordjv\n",
      "passwordjw\n",
      "passwordjx\n",
      "passwordjy\n",
      "passwordjz\n",
      "passwordk0\n",
      "passwordk1\n",
      "passwordk2\n",
      "passwordk3\n",
      "passwordk4\n",
      "passwordk5\n",
      "passwordk6\n",
      "passwordk7\n",
      "passwordk8\n",
      "passwordk9\n",
      "passwordka\n",
      "passwordkb\n",
      "passwordkc\n",
      "passwordkd\n",
      "passwordke\n",
      "passwordkf\n",
      "passwordkg\n",
      "passwordkh\n",
      "passwordki\n",
      "passwordkj\n",
      "passwordkk\n",
      "passwordkl\n",
      "passwordkm\n",
      "passwordkn\n",
      "passwordko\n",
      "passwordkp\n",
      "passwordkq\n",
      "passwordkr\n",
      "passwordks\n",
      "passwordkt\n",
      "passwordku\n",
      "passwordkv\n",
      "passwordkw\n",
      "passwordkx\n",
      "passwordky\n",
      "passwordkz\n",
      "passwordl0\n",
      "passwordl1\n",
      "passwordl2\n",
      "passwordl3\n",
      "passwordl4\n",
      "passwordl5\n",
      "passwordl6\n",
      "passwordl7\n",
      "passwordl8\n",
      "passwordl9\n",
      "passwordla\n",
      "passwordlb\n",
      "passwordlc\n",
      "passwordld\n",
      "passwordle\n",
      "passwordlf\n",
      "passwordlg\n",
      "passwordlh\n",
      "passwordli\n",
      "passwordlj\n",
      "passwordlk\n",
      "passwordll\n",
      "passwordlm\n",
      "passwordln\n",
      "passwordlo\n",
      "passwordlp\n",
      "passwordlq\n",
      "passwordlr\n",
      "passwordls\n",
      "passwordlt\n",
      "passwordlu\n",
      "passwordlv\n",
      "passwordlw\n",
      "passwordlx\n",
      "passwordly\n",
      "passwordlz\n",
      "passwordm0\n",
      "passwordm1\n",
      "passwordm2\n",
      "passwordm3\n",
      "passwordm4\n",
      "passwordm5\n",
      "passwordm6\n",
      "passwordm7\n",
      "passwordm8\n",
      "passwordm9\n",
      "passwordma\n",
      "passwordmb\n",
      "passwordmc\n",
      "passwordmd\n",
      "passwordme\n",
      "passwordmf\n",
      "passwordmg\n",
      "passwordmh\n",
      "passwordmi\n",
      "passwordmj\n",
      "passwordmk\n",
      "passwordml\n",
      "passwordmm\n",
      "passwordmn\n",
      "passwordmo\n",
      "passwordmp\n",
      "passwordmq\n",
      "passwordmr\n",
      "passwordms\n",
      "passwordmt\n",
      "passwordmu\n",
      "passwordmv\n",
      "passwordmw\n",
      "passwordmx\n",
      "passwordmy\n",
      "passwordmz\n",
      "passwordn0\n",
      "passwordn1\n",
      "passwordn2\n",
      "passwordn3\n",
      "passwordn4\n",
      "passwordn5\n",
      "passwordn6\n",
      "passwordn7\n",
      "passwordn8\n",
      "passwordn9\n",
      "passwordna\n",
      "passwordnb\n",
      "passwordnc\n",
      "passwordnd\n",
      "passwordne\n",
      "passwordnf\n",
      "passwordng\n",
      "passwordnh\n",
      "passwordni\n",
      "passwordnj\n",
      "passwordnk\n",
      "passwordnl\n",
      "passwordnm\n",
      "passwordnn\n",
      "passwordno\n",
      "passwordnp\n",
      "passwordnq\n",
      "passwordnr\n",
      "passwordns\n",
      "passwordnt\n",
      "passwordnu\n",
      "passwordnv\n",
      "passwordnw\n",
      "passwordnx\n",
      "passwordny\n",
      "passwordnz\n",
      "passwordo0\n",
      "passwordo1\n",
      "passwordo2\n",
      "passwordo3\n",
      "passwordo4\n",
      "passwordo5\n",
      "passwordo6\n",
      "passwordo7\n",
      "passwordo8\n",
      "passwordo9\n",
      "passwordoa\n",
      "passwordob\n",
      "passwordoc\n",
      "passwordod\n",
      "passwordoe\n",
      "passwordof\n",
      "passwordog\n",
      "passwordoh\n",
      "passwordoi\n",
      "passwordoj\n",
      "passwordok\n",
      "passwordol\n",
      "passwordom\n",
      "passwordon\n",
      "passwordoo\n",
      "passwordop\n",
      "passwordoq\n",
      "passwordor\n",
      "passwordos\n",
      "passwordot\n",
      "passwordou\n",
      "passwordov\n",
      "passwordow\n",
      "passwordox\n",
      "passwordoy\n",
      "passwordoz\n",
      "passwordp0\n",
      "passwordp1\n",
      "passwordp2\n",
      "passwordp3\n",
      "passwordp4\n",
      "passwordp5\n",
      "passwordp6\n",
      "passwordp7\n",
      "passwordp8\n",
      "passwordp9\n",
      "passwordpa\n",
      "passwordpb\n",
      "passwordpc\n",
      "passwordpd\n",
      "passwordpe\n",
      "passwordpf\n",
      "passwordpg\n",
      "passwordph\n",
      "passwordpi\n",
      "passwordpj\n",
      "passwordpk\n",
      "passwordpl\n",
      "passwordpm\n",
      "passwordpn\n",
      "passwordpo\n",
      "passwordpp\n",
      "passwordpq\n",
      "passwordpr\n",
      "passwordps\n",
      "passwordpt\n",
      "passwordpu\n",
      "passwordpv\n",
      "passwordpw\n",
      "passwordpx\n",
      "passwordpy\n",
      "passwordpz\n",
      "passwordq0\n",
      "passwordq1\n",
      "passwordq2\n",
      "passwordq3\n",
      "passwordq4\n",
      "passwordq5\n",
      "passwordq6\n",
      "passwordq7\n",
      "passwordq8\n",
      "passwordq9\n",
      "passwordqa\n",
      "passwordqb\n",
      "passwordqc\n",
      "passwordqd\n",
      "passwordqe\n",
      "passwordqf\n",
      "passwordqg\n",
      "passwordqh\n",
      "passwordqi\n",
      "passwordqj\n",
      "passwordqk\n",
      "passwordql\n",
      "passwordqm\n",
      "passwordqn\n",
      "passwordqo\n",
      "passwordqp\n",
      "passwordqq\n",
      "passwordqr\n",
      "passwordqs\n",
      "passwordqt\n",
      "passwordqu\n",
      "passwordqv\n",
      "passwordqw\n",
      "passwordqx\n",
      "passwordqy\n",
      "passwordqz\n",
      "passwordr0\n",
      "passwordr1\n",
      "passwordr2\n",
      "passwordr3\n",
      "passwordr4\n",
      "passwordr5\n",
      "passwordr6\n",
      "passwordr7\n",
      "passwordr8\n",
      "passwordr9\n",
      "passwordra\n",
      "passwordrb\n",
      "passwordrc\n",
      "passwordrd\n",
      "passwordre\n",
      "passwordrf\n",
      "passwordrg\n",
      "passwordrh\n",
      "passwordri\n",
      "passwordrj\n",
      "passwordrk\n",
      "passwordrl\n",
      "passwordrm\n",
      "passwordrn\n",
      "passwordro\n",
      "passwordrp\n",
      "passwordrq\n",
      "passwordrr\n",
      "passwordrs\n",
      "passwordrt\n",
      "passwordru\n",
      "passwordrv\n",
      "passwordrw\n",
      "passwordrx\n",
      "passwordry\n",
      "passwordrz\n",
      "passwords0\n",
      "passwords1\n",
      "passwords2\n",
      "passwords3\n",
      "passwords4\n",
      "passwords5\n",
      "passwords6\n",
      "passwords7\n",
      "passwords8\n",
      "passwords9\n",
      "passwordsa\n",
      "passwordsb\n",
      "passwordsc\n",
      "passwordsd\n",
      "passwordse\n",
      "passwordsf\n",
      "passwordsg\n",
      "passwordsh\n",
      "passwordsi\n",
      "passwordsj\n",
      "passwordsk\n",
      "passwordsl\n",
      "passwordsm\n",
      "passwordsn\n",
      "passwordso\n",
      "passwordsp\n",
      "passwordsq\n",
      "passwordsr\n",
      "passwordss\n",
      "passwordst\n",
      "passwordsu\n",
      "passwordsv\n",
      "passwordsw\n",
      "passwordsx\n",
      "passwordsy\n",
      "passwordsz\n",
      "passwordt0\n",
      "passwordt1\n",
      "passwordt2\n",
      "passwordt3\n",
      "passwordt4\n",
      "passwordt5\n",
      "passwordt6\n",
      "passwordt7\n",
      "passwordt8\n",
      "passwordt9\n",
      "passwordta\n",
      "passwordtb\n",
      "passwordtc\n",
      "passwordtd\n",
      "passwordte\n",
      "passwordtf\n",
      "passwordtg\n",
      "passwordth\n",
      "passwordti\n",
      "passwordtj\n",
      "passwordtk\n",
      "passwordtl\n",
      "passwordtm\n",
      "passwordtn\n",
      "passwordto\n",
      "passwordtp\n",
      "passwordtq\n",
      "passwordtr\n",
      "passwordts\n",
      "passwordtt\n",
      "passwordtu\n",
      "passwordtv\n",
      "passwordtw\n",
      "passwordtx\n",
      "passwordty\n",
      "passwordtz\n",
      "passwordu0\n",
      "passwordu1\n",
      "passwordu2\n",
      "passwordu3\n",
      "passwordu4\n",
      "passwordu5\n",
      "passwordu6\n",
      "passwordu7\n",
      "passwordu8\n",
      "passwordu9\n",
      "passwordua\n",
      "passwordub\n",
      "passworduc\n",
      "passwordud\n",
      "passwordue\n",
      "passworduf\n",
      "passwordug\n",
      "passworduh\n",
      "passwordui\n",
      "passworduj\n",
      "passworduk\n",
      "passwordul\n",
      "passwordum\n",
      "passwordun\n",
      "passworduo\n",
      "passwordup\n",
      "passworduq\n",
      "passwordur\n",
      "passwordus\n",
      "passwordut\n",
      "passworduu\n",
      "passworduv\n",
      "passworduw\n",
      "passwordux\n",
      "passworduy\n",
      "passworduz\n",
      "passwordv0\n",
      "passwordv1\n",
      "passwordv2\n",
      "passwordv3\n",
      "passwordv4\n",
      "passwordv5\n",
      "passwordv6\n",
      "passwordv7\n",
      "passwordv8\n",
      "passwordv9\n",
      "passwordva\n",
      "passwordvb\n",
      "passwordvc\n",
      "passwordvd\n",
      "passwordve\n",
      "passwordvf\n",
      "passwordvg\n",
      "passwordvh\n",
      "passwordvi\n",
      "passwordvj\n",
      "passwordvk\n",
      "passwordvl\n",
      "passwordvm\n",
      "passwordvn\n",
      "passwordvo\n",
      "passwordvp\n",
      "passwordvq\n",
      "passwordvr\n",
      "passwordvs\n",
      "passwordvt\n",
      "passwordvu\n",
      "passwordvv\n",
      "passwordvw\n",
      "passwordvx\n",
      "passwordvy\n",
      "passwordvz\n",
      "passwordw0\n",
      "passwordw1\n",
      "passwordw2\n",
      "passwordw3\n",
      "passwordw4\n",
      "passwordw5\n",
      "passwordw6\n",
      "passwordw7\n",
      "passwordw8\n",
      "passwordw9\n",
      "passwordwa\n",
      "passwordwb\n",
      "passwordwc\n",
      "passwordwd\n",
      "passwordwe\n",
      "passwordwf\n",
      "passwordwg\n",
      "passwordwh\n",
      "passwordwi\n",
      "passwordwj\n",
      "passwordwk\n",
      "passwordwl\n",
      "passwordwm\n",
      "passwordwn\n",
      "passwordwo\n",
      "passwordwp\n",
      "passwordwq\n",
      "passwordwr\n",
      "passwordws\n",
      "passwordwt\n",
      "passwordwu\n",
      "passwordwv\n",
      "passwordww\n",
      "passwordwx\n",
      "passwordwy\n",
      "passwordwz\n",
      "passwordx0\n",
      "passwordx1\n",
      "passwordx2\n",
      "passwordx3\n",
      "passwordx4\n",
      "passwordx5\n",
      "passwordx6\n",
      "passwordx7\n",
      "passwordx8\n",
      "passwordx9\n",
      "passwordxa\n",
      "passwordxb\n",
      "passwordxc\n",
      "passwordxd\n",
      "passwordxe\n",
      "passwordxf\n",
      "passwordxg\n",
      "passwordxh\n",
      "passwordxi\n",
      "passwordxj\n",
      "passwordxk\n",
      "passwordxl\n",
      "passwordxm\n",
      "passwordxn\n",
      "passwordxo\n",
      "passwordxp\n",
      "passwordxq\n",
      "passwordxr\n",
      "passwordxs\n",
      "passwordxt\n",
      "passwordxu\n",
      "passwordxv\n",
      "passwordxw\n",
      "passwordxx\n",
      "passwordxy\n",
      "passwordxz\n",
      "passwordy0\n",
      "passwordy1\n",
      "passwordy2\n",
      "passwordy3\n",
      "passwordy4\n",
      "passwordy5\n",
      "passwordy6\n",
      "passwordy7\n",
      "passwordy8\n",
      "passwordy9\n",
      "passwordya\n",
      "passwordyb\n",
      "passwordyc\n",
      "passwordyd\n",
      "passwordye\n",
      "passwordyf\n",
      "passwordyg\n",
      "passwordyh\n",
      "passwordyi\n",
      "passwordyj\n",
      "passwordyk\n",
      "passwordyl\n",
      "passwordym\n",
      "passwordyn\n",
      "passwordyo\n",
      "passwordyp\n",
      "passwordyq\n",
      "passwordyr\n",
      "passwordys\n",
      "passwordyt\n",
      "passwordyu\n",
      "passwordyv\n",
      "passwordyw\n",
      "passwordyx\n",
      "passwordyy\n",
      "passwordyz\n",
      "passwordz0\n",
      "passwordz1\n",
      "passwordz2\n",
      "passwordz3\n",
      "passwordz4\n",
      "passwordz5\n",
      "passwordz6\n",
      "passwordz7\n",
      "passwordz8\n",
      "passwordz9\n",
      "passwordza\n",
      "passwordzb\n",
      "passwordzc\n",
      "passwordzd\n",
      "passwordze\n",
      "passwordzf\n",
      "passwordzg\n",
      "passwordzh\n",
      "passwordzi\n",
      "passwordzj\n",
      "passwordzk\n",
      "passwordzl\n",
      "passwordzm\n",
      "passwordzn\n",
      "passwordzo\n",
      "passwordzp\n",
      "passwordzq\n",
      "passwordzr\n",
      "passwordzs\n",
      "passwordzt\n",
      "passwordzu\n",
      "passwordzv\n",
      "passwordzw\n",
      "passwordzx\n",
      "passwordzy\n",
      "passwordzz\n",
      "1296\n"
     ]
    }
   ],
   "source": [
    "import string\n",
    "password = 'password'\n",
    "values = string.digits + string.ascii_lowercase  #string.ascii_letters\n",
    "adding = [х + у for х in values for у in values]\n",
    "for a in adding:\n",
    "    new_password = password + a\n",
    "    print(new_password)\n",
    "print(len(adding))"
   ]
  },
  {
   "cell_type": "code",
   "execution_count": 33,
   "metadata": {},
   "outputs": [
    {
     "name": "stdout",
     "output_type": "stream",
     "text": [
      "password00\n",
      "password01\n",
      "password02\n",
      "password03\n",
      "password04\n",
      "password05\n",
      "password06\n",
      "password07\n",
      "password08\n",
      "password09\n",
      "password10\n",
      "password11\n",
      "password12\n",
      "password13\n",
      "password14\n",
      "password15\n",
      "password16\n",
      "password17\n",
      "password18\n",
      "password19\n",
      "password20\n",
      "password21\n",
      "password22\n",
      "password23\n",
      "password24\n",
      "password25\n",
      "password26\n",
      "password27\n",
      "password28\n",
      "password29\n",
      "password30\n",
      "password31\n",
      "password32\n",
      "password33\n",
      "password34\n",
      "password35\n",
      "password36\n",
      "password37\n",
      "password38\n",
      "password39\n",
      "password40\n",
      "password41\n",
      "password42\n",
      "password43\n",
      "password44\n",
      "password45\n",
      "password46\n",
      "password47\n",
      "password48\n",
      "password49\n",
      "password50\n",
      "password51\n",
      "password52\n",
      "password53\n",
      "password54\n",
      "password55\n",
      "password56\n",
      "password57\n",
      "password58\n",
      "password59\n",
      "password60\n",
      "password61\n",
      "password62\n",
      "password63\n",
      "password64\n",
      "password65\n",
      "password66\n",
      "password67\n",
      "password68\n",
      "password69\n",
      "password70\n",
      "password71\n",
      "password72\n",
      "password73\n",
      "password74\n",
      "password75\n",
      "password76\n",
      "password77\n",
      "password78\n",
      "password79\n",
      "password80\n",
      "password81\n",
      "password82\n",
      "password83\n",
      "password84\n",
      "password85\n",
      "password86\n",
      "password87\n",
      "password88\n",
      "password89\n",
      "password90\n",
      "password91\n",
      "password92\n",
      "password93\n",
      "password94\n",
      "password95\n",
      "password96\n",
      "password97\n",
      "password98\n",
      "password99\n"
     ]
    }
   ],
   "source": [
    "password = 'password'\n",
    "adding = [х + у for х in '0123456789' for у in '0123456789']\n",
    "for a in adding:\n",
    "    new_password = password + a\n",
    "    print(new_password)\n"
   ]
  },
  {
   "cell_type": "code",
   "execution_count": null,
   "metadata": {},
   "outputs": [],
   "source": [
    "#4"
   ]
  },
  {
   "cell_type": "code",
   "execution_count": 40,
   "metadata": {},
   "outputs": [
    {
     "data": {
      "text/plain": [
       "[(0, 1), (2, 1)]"
      ]
     },
     "execution_count": 40,
     "metadata": {},
     "output_type": "execute_result"
    }
   ],
   "source": [
    "[(х, у) for х in range(3) if х % 2 == 0 for у in range(3) if у % 2 == 1]"
   ]
  },
  {
   "cell_type": "code",
   "execution_count": null,
   "metadata": {},
   "outputs": [],
   "source": [
    "[(0, 1)]\n",
    "[(2, 1)]\n",
    "[(0, 1), (2, 1)]\n",
    "[(0, 1), (0, 2), (2, 1)]\n",
    "[(0, 1), (0, 3), (2, 1), (2, 3)]"
   ]
  },
  {
   "cell_type": "code",
   "execution_count": null,
   "metadata": {},
   "outputs": [],
   "source": [
    "#5"
   ]
  },
  {
   "cell_type": "code",
   "execution_count": 3,
   "metadata": {},
   "outputs": [
    {
     "data": {
      "text/plain": [
       "70"
      ]
     },
     "execution_count": 3,
     "metadata": {},
     "output_type": "execute_result"
    }
   ],
   "source": [
    "M = [[1, 2], [3, 4]]\n",
    "N = [[5, 6], [7, 8]]\n",
    "sum([col1*col2 for row1, row2 in zip(M, N) for col1, col2 in zip(row1, row2)])"
   ]
  },
  {
   "cell_type": "code",
   "execution_count": null,
   "metadata": {},
   "outputs": [],
   "source": [
    "36\n",
    "62\n",
    "70\n",
    "94\n",
    "100\n",
    "5760"
   ]
  },
  {
   "cell_type": "code",
   "execution_count": null,
   "metadata": {},
   "outputs": [],
   "source": [
    "#6"
   ]
  },
  {
   "cell_type": "code",
   "execution_count": 3,
   "metadata": {},
   "outputs": [
    {
     "name": "stdout",
     "output_type": "stream",
     "text": [
      "True 3\n"
     ]
    }
   ],
   "source": [
    "listoftuple = [(0, 1, 2), (1, 2, 3)]\n",
    "string1 = [b  for (a, b, c) in listoftuple]\n",
    "string2 = list(map((lambda row: row[1]), listoftuple))\n",
    "print(string1 == string2, sum(string1))"
   ]
  },
  {
   "cell_type": "code",
   "execution_count": null,
   "metadata": {},
   "outputs": [],
   "source": [
    "True 1\n",
    "False 1\n",
    "True 2\n",
    "False 2\n",
    "True 3\n",
    "False 3\n",
    "True 6\n",
    "False 6\n",
    "SyntaxError"
   ]
  },
  {
   "cell_type": "code",
   "execution_count": null,
   "metadata": {},
   "outputs": [],
   "source": [
    "#7 включение множеств"
   ]
  },
  {
   "cell_type": "code",
   "execution_count": 26,
   "metadata": {},
   "outputs": [
    {
     "data": {
      "text/plain": [
       "{'bc': ('b', 'c')}"
      ]
     },
     "execution_count": 26,
     "metadata": {},
     "output_type": "execute_result"
    }
   ],
   "source": [
    "{x + y: (x, y) for x in 'ab' for y in 'c' if not x.startswith('a')}"
   ]
  },
  {
   "cell_type": "code",
   "execution_count": null,
   "metadata": {},
   "outputs": [],
   "source": [
    "{'ac': ('a', 'c')}\n",
    "{'bc': ('b', 'c')}\n",
    "{'ab': ('a', 'b')}\n",
    "{'ac': ('a', 'c'), 'bc': ('b', 'c')}"
   ]
  },
  {
   "cell_type": "code",
   "execution_count": null,
   "metadata": {},
   "outputs": [],
   "source": [
    "#8 включения словарей"
   ]
  },
  {
   "cell_type": "code",
   "execution_count": 29,
   "metadata": {},
   "outputs": [
    {
     "data": {
      "text/plain": [
       "{'HELLO': 'hellohello', 'HI': 'hihi'}"
      ]
     },
     "execution_count": 29,
     "metadata": {},
     "output_type": "execute_result"
    }
   ],
   "source": [
    "{k.upper() : k * 2 for k in [ 'hello', 'hi', 'good morning' ] if k[0] == 'h'}"
   ]
  },
  {
   "cell_type": "code",
   "execution_count": 30,
   "metadata": {},
   "outputs": [
    {
     "data": {
      "text/plain": [
       "{'HELLO': 'hellohello', 'HI': 'hihi'}"
      ]
     },
     "execution_count": 30,
     "metadata": {},
     "output_type": "execute_result"
    }
   ],
   "source": [
    "{'HELLO', 'HI'}\n",
    "{'hellohello', 'hihi'}\n",
    "{'HELLO': 'hellohello', 'HI': 'hihi'}\n",
    "{'HELLO': 'hellohello', 'HI': 'hihi', 'GOOD MORNING': 'good morninggood morning'}"
   ]
  },
  {
   "cell_type": "markdown",
   "metadata": {},
   "source": [
    "# Генераторы"
   ]
  },
  {
   "cell_type": "code",
   "execution_count": null,
   "metadata": {},
   "outputs": [],
   "source": [
    "#1"
   ]
  },
  {
   "cell_type": "code",
   "execution_count": 10,
   "metadata": {},
   "outputs": [
    {
     "name": "stdout",
     "output_type": "stream",
     "text": [
      "144\n"
     ]
    }
   ],
   "source": [
    "def gen():\n",
    "    for i in range(1, 5):   \n",
    "        x = yield i\n",
    "        if x:\n",
    "            yield x**2\n",
    "g = gen()\n",
    "v = g.send(g.send(next(g) + next(g)) + next(g))\n",
    "print(v)"
   ]
  },
  {
   "cell_type": "code",
   "execution_count": null,
   "metadata": {},
   "outputs": [],
   "source": [
    "1\n",
    "3\n",
    "4\n",
    "9\n",
    "16\n",
    "81\n",
    "121\n",
    "144\n",
    "StopIteration\n",
    "None"
   ]
  },
  {
   "cell_type": "code",
   "execution_count": null,
   "metadata": {},
   "outputs": [],
   "source": [
    "#2"
   ]
  },
  {
   "cell_type": "code",
   "execution_count": 6,
   "metadata": {},
   "outputs": [
    {
     "name": "stdout",
     "output_type": "stream",
     "text": [
      "bye\n"
     ]
    }
   ],
   "source": [
    "def gen():\n",
    "    yield 'so far so good'\n",
    "    try:\n",
    "        yield 'yay'\n",
    "    finally:\n",
    "        yield 'bye'\n",
    "g = gen()\n",
    "next(g)\n",
    "next(g)\n",
    "t = g.throw(GeneratorExit())\n",
    "print(t)"
   ]
  },
  {
   "cell_type": "code",
   "execution_count": null,
   "metadata": {},
   "outputs": [],
   "source": [
    "#3"
   ]
  },
  {
   "cell_type": "code",
   "execution_count": null,
   "metadata": {},
   "outputs": [],
   "source": [
    "Какое использование генераторного выражения будет некорректным?\n",
    "    "
   ]
  },
  {
   "cell_type": "code",
   "execution_count": 4,
   "metadata": {},
   "outputs": [
    {
     "data": {
      "text/plain": [
       "[0, 1, 4, 9]"
      ]
     },
     "execution_count": 4,
     "metadata": {},
     "output_type": "execute_result"
    }
   ],
   "source": [
    "#1\n",
    "sorted(x ** 2 for x in range(4))"
   ]
  },
  {
   "cell_type": "code",
   "execution_count": 8,
   "metadata": {},
   "outputs": [
    {
     "data": {
      "text/plain": [
       "[0, 1, 4, 9]"
      ]
     },
     "execution_count": 8,
     "metadata": {},
     "output_type": "execute_result"
    }
   ],
   "source": [
    "#2\n",
    "sorted((x ** 2 for x in range(4)))"
   ]
  },
  {
   "cell_type": "code",
   "execution_count": 5,
   "metadata": {},
   "outputs": [
    {
     "data": {
      "text/plain": [
       "[9, 4, 1, 0]"
      ]
     },
     "execution_count": 5,
     "metadata": {},
     "output_type": "execute_result"
    }
   ],
   "source": [
    "#3\n",
    "sorted((x ** 2 for x in range(4)), reverse=True)"
   ]
  },
  {
   "cell_type": "code",
   "execution_count": 6,
   "metadata": {},
   "outputs": [
    {
     "ename": "SyntaxError",
     "evalue": "Generator expression must be parenthesized (<ipython-input-6-d158a9f8be75>, line 1)",
     "output_type": "error",
     "traceback": [
      "\u001b[1;36m  File \u001b[1;32m\"<ipython-input-6-d158a9f8be75>\"\u001b[1;36m, line \u001b[1;32m1\u001b[0m\n\u001b[1;33m    sorted(x ** 2 for x in range(4), reverse=True)\u001b[0m\n\u001b[1;37m           ^\u001b[0m\n\u001b[1;31mSyntaxError\u001b[0m\u001b[1;31m:\u001b[0m Generator expression must be parenthesized\n"
     ]
    }
   ],
   "source": [
    "#4\n",
    "sorted(x ** 2 for x in range(4), reverse=True)"
   ]
  },
  {
   "cell_type": "code",
   "execution_count": 7,
   "metadata": {},
   "outputs": [
    {
     "data": {
      "text/plain": [
       "[0, 1, 4, 9]"
      ]
     },
     "execution_count": 7,
     "metadata": {},
     "output_type": "execute_result"
    }
   ],
   "source": [
    "#5\n",
    "list(x ** 2 for x in range(4))"
   ]
  },
  {
   "cell_type": "code",
   "execution_count": null,
   "metadata": {},
   "outputs": [],
   "source": [
    "Ответ 4"
   ]
  },
  {
   "cell_type": "code",
   "execution_count": null,
   "metadata": {},
   "outputs": [],
   "source": [
    "#6"
   ]
  },
  {
   "cell_type": "code",
   "execution_count": 10,
   "metadata": {},
   "outputs": [
    {
     "data": {
      "text/plain": [
       "3.0"
      ]
     },
     "execution_count": 10,
     "metadata": {},
     "output_type": "execute_result"
    }
   ],
   "source": [
    "import math\n",
    "sum(map(math.sqrt, (x ** 2 for x in range(3)))) "
   ]
  },
  {
   "cell_type": "code",
   "execution_count": null,
   "metadata": {},
   "outputs": [],
   "source": [
    "0.0\n",
    "1.0\n",
    "3.0\n",
    "5.0\n",
    "6.0\n",
    "14.0\n",
    "Посмотреть результаты"
   ]
  },
  {
   "cell_type": "code",
   "execution_count": null,
   "metadata": {},
   "outputs": [],
   "source": [
    "#7"
   ]
  },
  {
   "cell_type": "code",
   "execution_count": 6,
   "metadata": {},
   "outputs": [
    {
     "data": {
      "text/plain": [
       "True"
      ]
     },
     "execution_count": 6,
     "metadata": {},
     "output_type": "execute_result"
    }
   ],
   "source": [
    "g1 = (c * 2 for c in 'ABC')\n",
    "def gen(m): \n",
    "    for c in m:\n",
    "        yield c * 2\n",
    "g2 = gen('ABC')\n",
    "list(g1) == list(g2)"
   ]
  },
  {
   "cell_type": "code",
   "execution_count": null,
   "metadata": {},
   "outputs": [],
   "source": [
    "True\n",
    "False\n",
    "TypeError\n",
    "SyntaxError"
   ]
  },
  {
   "cell_type": "code",
   "execution_count": null,
   "metadata": {},
   "outputs": [],
   "source": [
    "#8"
   ]
  },
  {
   "cell_type": "code",
   "execution_count": 10,
   "metadata": {},
   "outputs": [
    {
     "data": {
      "text/plain": [
       "True"
      ]
     },
     "execution_count": 10,
     "metadata": {},
     "output_type": "execute_result"
    }
   ],
   "source": [
    "line = 'aaa bbb ccc d e f'\n",
    "g1 = ''.join(x.upper() for x in line.split() if len(x) > 1)\n",
    "def gen(line): \n",
    "    for x in line.split():\n",
    "        if len (x) > 1:\n",
    "            yield x.upper()\n",
    "g2 = ''.join(gen(line))\n",
    "list(g1) == list(g2)"
   ]
  },
  {
   "cell_type": "code",
   "execution_count": null,
   "metadata": {},
   "outputs": [],
   "source": [
    "True\n",
    "False\n",
    "TypeError\n",
    "SyntaxError"
   ]
  },
  {
   "cell_type": "code",
   "execution_count": null,
   "metadata": {},
   "outputs": [],
   "source": [
    "#9"
   ]
  },
  {
   "cell_type": "code",
   "execution_count": 6,
   "metadata": {},
   "outputs": [
    {
     "name": "stdout",
     "output_type": "stream",
     "text": [
      "3\n"
     ]
    }
   ],
   "source": [
    "G = (с for с in '123')  \n",
    "I1 = iter(G)  \n",
    "I2 = iter(G)\n",
    "_ = next(I1)\n",
    "_ = next(I1)\n",
    "print(next(I2))"
   ]
  },
  {
   "cell_type": "code",
   "execution_count": null,
   "metadata": {},
   "outputs": [],
   "source": [
    "1\n",
    "2\n",
    "3\n",
    "123\n",
    "123 123\n",
    "123 123 123\n",
    "None\n",
    "StopIteration"
   ]
  },
  {
   "cell_type": "code",
   "execution_count": null,
   "metadata": {},
   "outputs": [],
   "source": [
    "#10"
   ]
  },
  {
   "cell_type": "code",
   "execution_count": 7,
   "metadata": {},
   "outputs": [
    {
     "ename": "StopIteration",
     "evalue": "",
     "output_type": "error",
     "traceback": [
      "\u001b[1;31m---------------------------------------------------------------------------\u001b[0m",
      "\u001b[1;31mStopIteration\u001b[0m                             Traceback (most recent call last)",
      "\u001b[1;32m<ipython-input-7-c46621de1fd0>\u001b[0m in \u001b[0;36m<module>\u001b[1;34m\u001b[0m\n\u001b[0;32m      4\u001b[0m \u001b[0mg\u001b[0m \u001b[1;33m=\u001b[0m \u001b[0mgen\u001b[0m\u001b[1;33m(\u001b[0m\u001b[1;34m'abcd'\u001b[0m\u001b[1;33m)\u001b[0m\u001b[1;33m\u001b[0m\u001b[1;33m\u001b[0m\u001b[0m\n\u001b[0;32m      5\u001b[0m \u001b[0ml\u001b[0m \u001b[1;33m=\u001b[0m \u001b[0mlen\u001b[0m\u001b[1;33m(\u001b[0m\u001b[0mlist\u001b[0m\u001b[1;33m(\u001b[0m\u001b[0mg\u001b[0m\u001b[1;33m)\u001b[0m\u001b[1;33m)\u001b[0m\u001b[1;33m\u001b[0m\u001b[1;33m\u001b[0m\u001b[0m\n\u001b[1;32m----> 6\u001b[1;33m \u001b[0mprint\u001b[0m\u001b[1;33m(\u001b[0m\u001b[0mnext\u001b[0m\u001b[1;33m(\u001b[0m\u001b[0mg\u001b[0m\u001b[1;33m)\u001b[0m\u001b[1;33m,\u001b[0m \u001b[0ml\u001b[0m\u001b[1;33m)\u001b[0m\u001b[1;33m\u001b[0m\u001b[1;33m\u001b[0m\u001b[0m\n\u001b[0m",
      "\u001b[1;31mStopIteration\u001b[0m: "
     ]
    }
   ],
   "source": [
    "def gen(n):\n",
    "    for i in n:\n",
    "        yield i\n",
    "g = gen('abcd')\n",
    "l = len(list(g))\n",
    "print(next(g), l)"
   ]
  },
  {
   "cell_type": "code",
   "execution_count": null,
   "metadata": {},
   "outputs": [],
   "source": [
    "'a' 4\n",
    "'' 4\n",
    "'a' 0\n",
    "'' 0\n",
    "'abcd' 0\n",
    "'abcd' 4\n",
    "StopIteration\n",
    "TypeError"
   ]
  },
  {
   "cell_type": "code",
   "execution_count": null,
   "metadata": {},
   "outputs": [],
   "source": [
    "#11"
   ]
  },
  {
   "cell_type": "code",
   "execution_count": 5,
   "metadata": {},
   "outputs": [
    {
     "name": "stdout",
     "output_type": "stream",
     "text": [
      "0:1:2:0:1:4\n"
     ]
    }
   ],
   "source": [
    "def f(n):\n",
    "    yield from range(n)\n",
    "    yield from (x ** 2 for x in range(n))\n",
    "res = ':'.join(str(i) for i in f(3))\n",
    "print(res)"
   ]
  },
  {
   "cell_type": "code",
   "execution_count": null,
   "metadata": {},
   "outputs": [],
   "source": [
    "0:1:2\n",
    "0:1:4\n",
    "0:1:2:0:1:4\n",
    "0:1:2:0:1:2\n",
    "0:1:4:0:1:4\n",
    "StopIteration \n",
    "SyntaxError"
   ]
  },
  {
   "cell_type": "code",
   "execution_count": null,
   "metadata": {},
   "outputs": [],
   "source": [
    "#12"
   ]
  },
  {
   "cell_type": "code",
   "execution_count": 8,
   "metadata": {},
   "outputs": [
    {
     "name": "stdout",
     "output_type": "stream",
     "text": [
      "['123', '231', '312']\n"
     ]
    }
   ],
   "source": [
    "def f(seq):\n",
    "    for i in range(len(seq)):\n",
    "        yield seq[i:] + seq[:i]\n",
    "print((list(f('123'))))"
   ]
  },
  {
   "cell_type": "code",
   "execution_count": null,
   "metadata": {},
   "outputs": [],
   "source": [
    "['123', '231', '312']\n",
    "['231', '312', '123']\n",
    "['312', '123', '231']\n",
    "['321', '213', '132']"
   ]
  },
  {
   "cell_type": "code",
   "execution_count": null,
   "metadata": {},
   "outputs": [],
   "source": [
    "#13"
   ]
  },
  {
   "cell_type": "code",
   "execution_count": 14,
   "metadata": {},
   "outputs": [
    {
     "name": "stdout",
     "output_type": "stream",
     "text": [
      "yxxy\n"
     ]
    }
   ],
   "source": [
    "def f(seq):\n",
    "    for i in range(len(seq)):\n",
    "        seq = seq[1:] + seq[:1]\n",
    "        yield seq\n",
    "print(''.join(list(f('xy'))))"
   ]
  },
  {
   "cell_type": "code",
   "execution_count": null,
   "metadata": {},
   "outputs": [],
   "source": [
    "xxyy\n",
    "yyxx\n",
    "xyyx\n",
    "yxxy\n",
    "yxyx"
   ]
  },
  {
   "cell_type": "code",
   "execution_count": 15,
   "metadata": {},
   "outputs": [
    {
     "data": {
      "text/plain": [
       "True"
      ]
     },
     "execution_count": 15,
     "metadata": {},
     "output_type": "execute_result"
    }
   ],
   "source": [
    "line = 'aaa bbb ccc d e f'\n",
    "g1 = ''.join(x.upper() for x in line.split() if -len(x) < -1)\n",
    "def gen(line): \n",
    "    for x in line.split():\n",
    "        if len(x) > 1:\n",
    "            yield x.upper()\n",
    "g2 = ''.join(gen(line))\n",
    "list(g1) == list(g2)"
   ]
  },
  {
   "cell_type": "code",
   "execution_count": null,
   "metadata": {},
   "outputs": [],
   "source": [
    "генераторы размеены на tocit.ru"
   ]
  },
  {
   "cell_type": "code",
   "execution_count": null,
   "metadata": {},
   "outputs": [],
   "source": [
    "#14"
   ]
  },
  {
   "cell_type": "code",
   "execution_count": 2,
   "metadata": {},
   "outputs": [
    {
     "name": "stdout",
     "output_type": "stream",
     "text": [
      "[[1, 2], [2, 1]] 120\n"
     ]
    }
   ],
   "source": [
    "def f(seq):\n",
    "    if not seq:  \n",
    "        return [seq]\n",
    "    else:\n",
    "        res = []\n",
    "        for i in range(len(seq)):\n",
    "            rest = seq[:i] + seq[i+1:] \n",
    "            for x in f(rest):\n",
    "                res.append(seq[i:i+1] + x)\n",
    "        return res\n",
    "a = f([1, 2])\n",
    "b = f([1, 2, 3, 4, 5])\n",
    "print(a, len(b))"
   ]
  },
  {
   "cell_type": "code",
   "execution_count": null,
   "metadata": {},
   "outputs": [],
   "source": [
    "[2, 1] 120\n",
    "[1, 2] 120\n",
    "[[1, 2], [2, 1]] 120\n",
    "[2, 1] 15\n",
    "[1, 2] 15\n",
    "[[1, 2], [2, 1]] 15\n",
    "[2, 1] 5\n",
    "[1, 2] 5\n",
    "[[1, 2], [2, 1]] 5"
   ]
  },
  {
   "cell_type": "code",
   "execution_count": null,
   "metadata": {},
   "outputs": [],
   "source": [
    "#15"
   ]
  },
  {
   "cell_type": "code",
   "execution_count": 4,
   "metadata": {},
   "outputs": [
    {
     "name": "stdout",
     "output_type": "stream",
     "text": [
      "[['a', 'b'], ['b', 'a']] 24\n"
     ]
    }
   ],
   "source": [
    "def f(seq):\n",
    "    if not seq:\n",
    "        yield seq\n",
    "    else:\n",
    "        for i in range(len(seq)):\n",
    "            rest = seq[:i] + seq[i+1:]\n",
    "            for x in f(rest):\n",
    "                yield seq[i:i+1] + x\n",
    "a = [*f(['a', 'b'])]\n",
    "b = [*f(['a', 'b', 'c', 'd'])]\n",
    "print(a, len(b))"
   ]
  },
  {
   "cell_type": "code",
   "execution_count": null,
   "metadata": {},
   "outputs": [],
   "source": [
    "['a', 'b'] 24\n",
    "['b', 'a'] 24\n",
    "[['a', 'b'], ['b', 'a']] 24\n",
    "['a', 'b'] 6\n",
    "['b', 'a'] 6\n",
    "[['a', 'b'], ['b', 'a']] 6\n",
    "['a', 'b'] 4\n",
    "['b', 'a'] 4\n",
    "[['a', 'b'], ['b', 'a']] 4"
   ]
  },
  {
   "cell_type": "code",
   "execution_count": null,
   "metadata": {},
   "outputs": [],
   "source": [
    "#16"
   ]
  },
  {
   "cell_type": "code",
   "execution_count": 3,
   "metadata": {},
   "outputs": [
    {
     "name": "stdout",
     "output_type": "stream",
     "text": [
      "True\n"
     ]
    }
   ],
   "source": [
    "def f(*seqs):\n",
    "    seqs = [list(S) for S in seqs]\n",
    "    res = []\n",
    "    while all(seqs):\n",
    "        res.append(tuple(S.pop(0) for S in seqs))\n",
    "    return res\n",
    "s1, s2 = 'abc', '12345'\n",
    "print(list(zip(s1, s2)) == f(s1, s2))"
   ]
  },
  {
   "cell_type": "code",
   "execution_count": null,
   "metadata": {},
   "outputs": [],
   "source": [
    "True\n",
    "False\n",
    "TypeError\n",
    "SyntaxError\n"
   ]
  },
  {
   "cell_type": "code",
   "execution_count": null,
   "metadata": {},
   "outputs": [],
   "source": [
    "#17"
   ]
  },
  {
   "cell_type": "code",
   "execution_count": 9,
   "metadata": {},
   "outputs": [
    {
     "name": "stdout",
     "output_type": "stream",
     "text": [
      "False\n"
     ]
    }
   ],
   "source": [
    "def f(*seqs, pad=None):\n",
    "    seqs = [list(S) for S in seqs]\n",
    "    res = []\n",
    "    while any(seqs):\n",
    "        res.append(tuple((S.pop(0) if S else pad) for S in seqs))\n",
    "    return res\n",
    "\n",
    "s1, s2 = 'abc', '12345'\n",
    "print(list(zip(s1, s2)) == f(s1, s2))"
   ]
  },
  {
   "cell_type": "code",
   "execution_count": null,
   "metadata": {},
   "outputs": [],
   "source": [
    "True\n",
    "False\n",
    "TypeError\n",
    "SyntaxError"
   ]
  },
  {
   "cell_type": "code",
   "execution_count": null,
   "metadata": {},
   "outputs": [],
   "source": [
    "#18"
   ]
  },
  {
   "cell_type": "code",
   "execution_count": 14,
   "metadata": {},
   "outputs": [
    {
     "name": "stdout",
     "output_type": "stream",
     "text": [
      "[('a', '1'), ('b', '2')]\n"
     ]
    }
   ],
   "source": [
    "def f(*seqs):\n",
    "    seqs = [list(s) for s in seqs]\n",
    "    while all(seqs):\n",
    "        yield tuple(s.pop (0) for s in seqs)\n",
    "s1, s2 = 'ab', '123'\n",
    "print(list(f(s1, s2)))"
   ]
  },
  {
   "cell_type": "code",
   "execution_count": null,
   "metadata": {},
   "outputs": [],
   "source": [
    "[('a', '1')]\n",
    "[('a', '1'), ('b', '2')]\n",
    "[('b', '2'), ('a', '1')]\n",
    "[('a', '1'), ('b', '2'), (None, '3')]\n",
    "[(None, '3'), ('b', '2'), ('a', '1')]"
   ]
  },
  {
   "cell_type": "code",
   "execution_count": null,
   "metadata": {},
   "outputs": [],
   "source": [
    "#19"
   ]
  },
  {
   "cell_type": "code",
   "execution_count": 16,
   "metadata": {},
   "outputs": [
    {
     "name": "stdout",
     "output_type": "stream",
     "text": [
      "[('9', 'x'), ('8', 'y'), ('7', None)]\n"
     ]
    }
   ],
   "source": [
    "def f(*seqs, pad=None):\n",
    "    seqs = [list(S) for S in seqs]\n",
    "    while any(seqs):\n",
    "        yield tuple((S.pop(0) if S else pad) for S in seqs)\n",
    "s1, s2 = '987', 'xy'\n",
    "print(list(f(s1, s2)))"
   ]
  },
  {
   "cell_type": "code",
   "execution_count": null,
   "metadata": {},
   "outputs": [],
   "source": [
    "[('9', 'x'), ('8', 'y')]\n",
    "[('9', 'x'), ('8', 'y'), ('7', None)]\n",
    "[('8', 'y'), ('9', 'x')]\n",
    "[('7', None), ('8', 'y'), ('9', 'x')]"
   ]
  },
  {
   "cell_type": "code",
   "execution_count": null,
   "metadata": {},
   "outputs": [],
   "source": [
    "#20"
   ]
  },
  {
   "cell_type": "code",
   "execution_count": 9,
   "metadata": {},
   "outputs": [
    {
     "name": "stdout",
     "output_type": "stream",
     "text": [
      "[('a', 'x'), ('b', 'y')]\n"
     ]
    }
   ],
   "source": [
    "def f(*seqs):\n",
    "    minlen = min(len(s) for s in seqs)\n",
    "    return [tuple(s[i] for s in seqs) for i in range(minlen)]\n",
    "\n",
    "s1, s2 = 'ab' , 'xyz'\n",
    "print(f(s1, s2))"
   ]
  },
  {
   "cell_type": "code",
   "execution_count": null,
   "metadata": {},
   "outputs": [],
   "source": [
    "[('a', 'x'), ('b', 'y')]\n",
    "[('a', 'x'), ('b', 'y'), (None, 'z')]\n",
    "[('a', 'b'), ('x', 'y')]\n",
    "[('a', 'b', None), ('x', 'y', 'z')]"
   ]
  },
  {
   "cell_type": "code",
   "execution_count": null,
   "metadata": {},
   "outputs": [],
   "source": [
    "#21"
   ]
  },
  {
   "cell_type": "code",
   "execution_count": 11,
   "metadata": {},
   "outputs": [
    {
     "name": "stdout",
     "output_type": "stream",
     "text": [
      "[('a', 'x'), ('b', 'y'), (None, 'z')]\n"
     ]
    }
   ],
   "source": [
    "def f(*seqs, pad=None):\n",
    "    maxlen = max(len(S) for S in seqs)\n",
    "    index = range(maxlen)\n",
    "    return [tuple((S[i] if len(S) > i else pad) for S in seqs) for i in index]\n",
    "s1, s2 = 'ab' , 'xyz'\n",
    "print(f(s1, s2))"
   ]
  },
  {
   "cell_type": "code",
   "execution_count": null,
   "metadata": {},
   "outputs": [],
   "source": [
    "[('a', 'x'), ('b', 'y')]\n",
    "[('a', 'x'), ('b', 'y'), (None, 'z')]\n",
    "[('a', 'b'), ('x', 'y')]\n",
    "[('a', 'b', None), ('x', 'y', 'z')]"
   ]
  },
  {
   "cell_type": "markdown",
   "metadata": {},
   "source": [
    "# Словари"
   ]
  },
  {
   "cell_type": "code",
   "execution_count": null,
   "metadata": {},
   "outputs": [],
   "source": [
    "#1"
   ]
  },
  {
   "cell_type": "code",
   "execution_count": 29,
   "metadata": {},
   "outputs": [
    {
     "name": "stdout",
     "output_type": "stream",
     "text": [
      "125\n"
     ]
    }
   ],
   "source": [
    "def f(a, b, c):\n",
    "    return (a + 2*b) ** c\n",
    "w = {\"a\": 1, \"b\": 2, \"c\": 3}\n",
    "print(f(**w))"
   ]
  },
  {
   "cell_type": "code",
   "execution_count": null,
   "metadata": {},
   "outputs": [],
   "source": [
    "0\n",
    "(a + 2*b) ** c\n",
    "64\n",
    "125"
   ]
  },
  {
   "cell_type": "code",
   "execution_count": null,
   "metadata": {},
   "outputs": [],
   "source": [
    "#2\n",
    "нигде не размещено"
   ]
  },
  {
   "cell_type": "code",
   "execution_count": 30,
   "metadata": {},
   "outputs": [
    {
     "name": "stdout",
     "output_type": "stream",
     "text": [
      "{1: 'aaa', 2: 'bbbb'} {3, 4}\n"
     ]
    }
   ],
   "source": [
    "ranks = {'aaa': 1, 'bbbb': 2}\n",
    "rank_dict = {rank: name for name, rank in ranks.items()}\n",
    "set_len = {len(name) for name in rank_dict.values()}\n",
    "print(rank_dict, set_len)"
   ]
  },
  {
   "cell_type": "code",
   "execution_count": null,
   "metadata": {},
   "outputs": [],
   "source": [
    "{'aaa': 1, 'bbbb': 2} {1, 2}\n",
    "{'aaa': 1, 'bbbb': 2} {3, 4}\n",
    "{'aaa': 1, 'bbbb': 2} {1, 2, 3, 4}\n",
    "{1: 'aaa', 2: 'bbbb'} {1, 2}\n",
    "{1: 'aaa', 2: 'bbbb'} {3, 4}\n",
    "{1: 'aaa', 2: 'bbbb'} {1, 2, 3, 4}"
   ]
  },
  {
   "cell_type": "code",
   "execution_count": null,
   "metadata": {},
   "outputs": [],
   "source": [
    "#3"
   ]
  },
  {
   "cell_type": "code",
   "execution_count": 1,
   "metadata": {},
   "outputs": [
    {
     "name": "stdout",
     "output_type": "stream",
     "text": [
      "1 2 2 2 2\n"
     ]
    }
   ],
   "source": [
    "d = {}\n",
    "x1 = d.get(\"x\", 1)\n",
    "x2 = d.setdefault('x', 2)\n",
    "x3 = d.get(\"x\", 3)\n",
    "x4 = d.setdefault('x', 4)\n",
    "print(x1, x2, x3, x4, sum(d.values()))"
   ]
  },
  {
   "cell_type": "code",
   "execution_count": null,
   "metadata": {},
   "outputs": [],
   "source": [
    "1 2 3 4 10\n",
    "1 2 2 4 6\n",
    "1 2 2 2 4\n",
    "1 2 2 2 2\n",
    "KeyError"
   ]
  },
  {
   "cell_type": "code",
   "execution_count": null,
   "metadata": {},
   "outputs": [],
   "source": [
    "#4"
   ]
  },
  {
   "cell_type": "code",
   "execution_count": 5,
   "metadata": {},
   "outputs": [
    {
     "name": "stdout",
     "output_type": "stream",
     "text": [
      "False\n"
     ]
    }
   ],
   "source": [
    "d1 = {}\n",
    "d2 = {}\n",
    "d1.get(\"x\", 2)\n",
    "d2.setdefault(\"x\", 2)\n",
    "print(d1 == d2)"
   ]
  },
  {
   "cell_type": "code",
   "execution_count": null,
   "metadata": {},
   "outputs": [],
   "source": [
    "True\n",
    "False\n",
    "KeyError"
   ]
  },
  {
   "cell_type": "code",
   "execution_count": null,
   "metadata": {},
   "outputs": [],
   "source": [
    "#5"
   ]
  },
  {
   "cell_type": "code",
   "execution_count": 8,
   "metadata": {},
   "outputs": [
    {
     "name": "stdout",
     "output_type": "stream",
     "text": [
      "True\n"
     ]
    }
   ],
   "source": [
    "d1 = {'x': 2}\n",
    "d2 = {}\n",
    "d1.setdefault(\"x\", 1)\n",
    "d2.setdefault(\"x\", 2)\n",
    "print(d1 == d2)"
   ]
  },
  {
   "cell_type": "code",
   "execution_count": null,
   "metadata": {},
   "outputs": [],
   "source": [
    "True\n",
    "False\n",
    "KeyError"
   ]
  },
  {
   "cell_type": "code",
   "execution_count": null,
   "metadata": {},
   "outputs": [],
   "source": [
    "#6"
   ]
  },
  {
   "cell_type": "code",
   "execution_count": 17,
   "metadata": {},
   "outputs": [
    {
     "name": "stdout",
     "output_type": "stream",
     "text": [
      "5\n"
     ]
    }
   ],
   "source": [
    "d = {\"a\": [1], \"b\": 2}\n",
    "d2 = d.copy()\n",
    "d2[\"a\"] += [2]\n",
    "d2[\"b\"] += 3\n",
    "print(sum(d[\"a\"]) + d[\"b\"])"
   ]
  },
  {
   "cell_type": "code",
   "execution_count": null,
   "metadata": {},
   "outputs": [],
   "source": [
    "0\n",
    "3 \n",
    "5 \n",
    "6 \n",
    "8\n"
   ]
  },
  {
   "cell_type": "code",
   "execution_count": null,
   "metadata": {},
   "outputs": [],
   "source": [
    "#7"
   ]
  },
  {
   "cell_type": "code",
   "execution_count": 19,
   "metadata": {},
   "outputs": [
    {
     "name": "stdout",
     "output_type": "stream",
     "text": [
      "3\n"
     ]
    }
   ],
   "source": [
    "d = {\"a\": [1], \"b\": 2}\n",
    "d2 = d.copy()\n",
    "d2[\"a\"] = d2[\"a\"] + [2]\n",
    "d2[\"b\"] += 3\n",
    "print(sum(d[\"a\"]) + d[\"b\"])"
   ]
  },
  {
   "cell_type": "code",
   "execution_count": null,
   "metadata": {},
   "outputs": [],
   "source": [
    "0\n",
    "3 \n",
    "5 \n",
    "6 \n",
    "8"
   ]
  },
  {
   "cell_type": "code",
   "execution_count": null,
   "metadata": {},
   "outputs": [],
   "source": [
    "#8"
   ]
  },
  {
   "cell_type": "code",
   "execution_count": 20,
   "metadata": {},
   "outputs": [
    {
     "name": "stdout",
     "output_type": "stream",
     "text": [
      "3\n"
     ]
    }
   ],
   "source": [
    "from copy import deepcopy\n",
    "d = {\"a\": [1], \"b\": 2}\n",
    "d2 = deepcopy(d)\n",
    "d2[\"a\"] += [2]\n",
    "d2[\"b\"] += 3\n",
    "print(sum(d[\"a\"]) + d[\"b\"])"
   ]
  },
  {
   "cell_type": "code",
   "execution_count": null,
   "metadata": {},
   "outputs": [],
   "source": [
    "0\n",
    "3 \n",
    "5 \n",
    "6 \n",
    "8"
   ]
  },
  {
   "cell_type": "code",
   "execution_count": null,
   "metadata": {},
   "outputs": [],
   "source": [
    "#9"
   ]
  },
  {
   "cell_type": "code",
   "execution_count": 21,
   "metadata": {},
   "outputs": [
    {
     "name": "stdout",
     "output_type": "stream",
     "text": [
      "7\n"
     ]
    }
   ],
   "source": [
    "d1 = dict.fromkeys(('a', 'b'), 1)\n",
    "d2 = dict(zip(['c', 'd'], [2, 3]))\n",
    "d1.update(d2)\n",
    "print(sum(d1.values()))"
   ]
  },
  {
   "cell_type": "code",
   "execution_count": null,
   "metadata": {},
   "outputs": [],
   "source": [
    "1\n",
    "2\n",
    "5\n",
    "6\n",
    "7\n",
    "KeyError\n",
    "TypeError"
   ]
  },
  {
   "cell_type": "code",
   "execution_count": null,
   "metadata": {},
   "outputs": [],
   "source": [
    "#10"
   ]
  },
  {
   "cell_type": "code",
   "execution_count": 28,
   "metadata": {},
   "outputs": [
    {
     "name": "stdout",
     "output_type": "stream",
     "text": [
      "11\n"
     ]
    }
   ],
   "source": [
    "d = {10: 1}\n",
    "print(sum(d.popitem()) + sum(d))"
   ]
  },
  {
   "cell_type": "code",
   "execution_count": 27,
   "metadata": {},
   "outputs": [
    {
     "data": {
      "text/plain": [
       "12"
      ]
     },
     "execution_count": 27,
     "metadata": {},
     "output_type": "execute_result"
    }
   ],
   "source": [
    "1\n",
    "2\n",
    "10\n",
    "11\n",
    "12"
   ]
  },
  {
   "cell_type": "markdown",
   "metadata": {},
   "source": [
    "# Списковые включения"
   ]
  },
  {
   "cell_type": "code",
   "execution_count": null,
   "metadata": {},
   "outputs": [],
   "source": [
    "#1"
   ]
  },
  {
   "cell_type": "code",
   "execution_count": 3,
   "metadata": {},
   "outputs": [
    {
     "data": {
      "text/plain": [
       "[0, 1, 2, 3, 4, 5, 6, 7, 8, 9]"
      ]
     },
     "execution_count": 3,
     "metadata": {},
     "output_type": "execute_result"
    }
   ],
   "source": [
    "[i for i in range(10)]"
   ]
  },
  {
   "cell_type": "code",
   "execution_count": 4,
   "metadata": {},
   "outputs": [
    {
     "ename": "NameError",
     "evalue": "name 'i' is not defined",
     "output_type": "error",
     "traceback": [
      "\u001b[1;31m---------------------------------------------------------------------------\u001b[0m",
      "\u001b[1;31mNameError\u001b[0m                                 Traceback (most recent call last)",
      "\u001b[1;32m<ipython-input-4-19f9c095dba2>\u001b[0m in \u001b[0;36m<module>\u001b[1;34m\u001b[0m\n\u001b[0;32m      1\u001b[0m \u001b[0m_\u001b[0m \u001b[1;33m=\u001b[0m \u001b[1;33m[\u001b[0m\u001b[0mi\u001b[0m \u001b[1;32mfor\u001b[0m \u001b[0mi\u001b[0m \u001b[1;32min\u001b[0m \u001b[0mrange\u001b[0m\u001b[1;33m(\u001b[0m\u001b[1;36m10\u001b[0m\u001b[1;33m)\u001b[0m\u001b[1;33m]\u001b[0m\u001b[1;33m\u001b[0m\u001b[1;33m\u001b[0m\u001b[0m\n\u001b[1;32m----> 2\u001b[1;33m \u001b[0mprint\u001b[0m\u001b[1;33m(\u001b[0m\u001b[0mi\u001b[0m\u001b[1;33m)\u001b[0m\u001b[1;33m\u001b[0m\u001b[1;33m\u001b[0m\u001b[0m\n\u001b[0m",
      "\u001b[1;31mNameError\u001b[0m: name 'i' is not defined"
     ]
    }
   ],
   "source": [
    "_ = [i for i in range(10)]\n",
    "print(i)"
   ]
  },
  {
   "cell_type": "code",
   "execution_count": null,
   "metadata": {},
   "outputs": [],
   "source": [
    "0\n",
    "1\n",
    "9\n",
    "10\n",
    "NameError\n",
    "TypeError"
   ]
  },
  {
   "cell_type": "code",
   "execution_count": null,
   "metadata": {},
   "outputs": [],
   "source": [
    "#2"
   ]
  },
  {
   "cell_type": "code",
   "execution_count": 8,
   "metadata": {},
   "outputs": [],
   "source": [
    "del x"
   ]
  },
  {
   "cell_type": "code",
   "execution_count": 9,
   "metadata": {},
   "outputs": [
    {
     "ename": "NameError",
     "evalue": "name 'x' is not defined",
     "output_type": "error",
     "traceback": [
      "\u001b[1;31m---------------------------------------------------------------------------\u001b[0m",
      "\u001b[1;31mNameError\u001b[0m                                 Traceback (most recent call last)",
      "\u001b[1;32m<ipython-input-9-2ed35c44734a>\u001b[0m in \u001b[0;36m<module>\u001b[1;34m\u001b[0m\n\u001b[0;32m      1\u001b[0m \u001b[0m_\u001b[0m  \u001b[1;33m=\u001b[0m \u001b[0mdict\u001b[0m\u001b[1;33m(\u001b[0m\u001b[1;33m(\u001b[0m\u001b[0mx\u001b[0m\u001b[1;33m,\u001b[0m \u001b[0mx\u001b[0m \u001b[1;33m*\u001b[0m \u001b[0mx\u001b[0m\u001b[1;33m)\u001b[0m \u001b[1;32mfor\u001b[0m \u001b[0mx\u001b[0m \u001b[1;32min\u001b[0m \u001b[0mrange\u001b[0m\u001b[1;33m(\u001b[0m\u001b[1;36m10\u001b[0m\u001b[1;33m)\u001b[0m\u001b[1;33m)\u001b[0m\u001b[1;33m\u001b[0m\u001b[1;33m\u001b[0m\u001b[0m\n\u001b[1;32m----> 2\u001b[1;33m \u001b[0mprint\u001b[0m\u001b[1;33m(\u001b[0m\u001b[0mx\u001b[0m\u001b[1;33m)\u001b[0m\u001b[1;33m\u001b[0m\u001b[1;33m\u001b[0m\u001b[0m\n\u001b[0m",
      "\u001b[1;31mNameError\u001b[0m: name 'x' is not defined"
     ]
    }
   ],
   "source": [
    "_  = dict((x, x * x) for x in range(10))\n",
    "print(x)"
   ]
  },
  {
   "cell_type": "code",
   "execution_count": null,
   "metadata": {},
   "outputs": [],
   "source": [
    "0\n",
    "1\n",
    "9\n",
    "10\n",
    "NameError\n",
    "TypeError"
   ]
  },
  {
   "cell_type": "code",
   "execution_count": null,
   "metadata": {},
   "outputs": [],
   "source": [
    "#3"
   ]
  },
  {
   "cell_type": "code",
   "execution_count": 3,
   "metadata": {},
   "outputs": [
    {
     "name": "stdout",
     "output_type": "stream",
     "text": [
      "['b', 'c']\n"
     ]
    }
   ],
   "source": [
    "d = {'a': 1, 'b': 2, 'c': 3}\n",
    "x = [string for string, digit in d.items() if digit > 1]\n",
    "print(x)"
   ]
  },
  {
   "cell_type": "code",
   "execution_count": null,
   "metadata": {},
   "outputs": [],
   "source": [
    "[1, 2, 3]\n",
    "[2, 3]\n",
    "['c']\n",
    "['b', 'c']\n",
    "['a', 'b', 'c']"
   ]
  },
  {
   "cell_type": "markdown",
   "metadata": {},
   "source": [
    "# Битовые операции"
   ]
  },
  {
   "cell_type": "code",
   "execution_count": null,
   "metadata": {},
   "outputs": [],
   "source": [
    "#1"
   ]
  },
  {
   "cell_type": "code",
   "execution_count": 4,
   "metadata": {},
   "outputs": [
    {
     "data": {
      "text/plain": [
       "31"
      ]
     },
     "execution_count": 4,
     "metadata": {},
     "output_type": "execute_result"
    }
   ],
   "source": [
    "sum([1 << i for i in range(5)])"
   ]
  },
  {
   "cell_type": "code",
   "execution_count": null,
   "metadata": {},
   "outputs": [],
   "source": [
    "0\n",
    "7\n",
    "16\n",
    "31\n",
    "32\n",
    "43\n",
    "63"
   ]
  },
  {
   "cell_type": "code",
   "execution_count": null,
   "metadata": {},
   "outputs": [],
   "source": [
    "#2"
   ]
  },
  {
   "cell_type": "code",
   "execution_count": 5,
   "metadata": {},
   "outputs": [
    {
     "data": {
      "text/plain": [
       "4"
      ]
     },
     "execution_count": 5,
     "metadata": {},
     "output_type": "execute_result"
    }
   ],
   "source": [
    "sum([3 >> i for i in range(200)])"
   ]
  },
  {
   "cell_type": "code",
   "execution_count": null,
   "metadata": {},
   "outputs": [],
   "source": [
    "0\n",
    "1\n",
    "2\n",
    "3\n",
    "4\n",
    "5\n",
    "200\n",
    "2134\n",
    "456657"
   ]
  }
 ],
 "metadata": {
  "kernelspec": {
   "display_name": "Python 3",
   "language": "python",
   "name": "python3"
  },
  "language_info": {
   "codemirror_mode": {
    "name": "ipython",
    "version": 3
   },
   "file_extension": ".py",
   "mimetype": "text/x-python",
   "name": "python",
   "nbconvert_exporter": "python",
   "pygments_lexer": "ipython3",
   "version": "3.8.5"
  }
 },
 "nbformat": 4,
 "nbformat_minor": 4
}
